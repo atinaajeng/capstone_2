{
 "cells": [
  {
   "cell_type": "markdown",
   "id": "36a528c5",
   "metadata": {},
   "source": [
    "# Capstone Module-2"
   ]
  },
  {
   "cell_type": "markdown",
   "id": "f983c17d",
   "metadata": {},
   "source": [
    "## Introduction"
   ]
  },
  {
   "cell_type": "markdown",
   "id": "e06b5221",
   "metadata": {},
   "source": [
    "In business, it is essential to understand customers’ behavior in order to evaluate as well as optimize strategies to boost more profit. Data analysis and visualization play a crucial role in this regard. This process transforms raw data into meaningful information. This approach is hoped to deliver information and insights for the relevant stakeholders. Aiming to be a basis to make decision. \n",
    "\n",
    "In this study, a dataset about supermarket customers’ will be analyzed. Through visualizations, key patterns in purchasing preferences, campaigns and demographics will be presented. Lastly, actionable recommendations will be provided."
   ]
  },
  {
   "cell_type": "markdown",
   "id": "ce98b490",
   "metadata": {},
   "source": [
    "## Load Module"
   ]
  },
  {
   "cell_type": "code",
   "execution_count": 1,
   "id": "36cc073e",
   "metadata": {},
   "outputs": [],
   "source": [
    "import numpy as np\n",
    "import pandas as pd\n",
    "import seaborn as sns\n",
    "import matplotlib.pyplot as plt"
   ]
  },
  {
   "cell_type": "markdown",
   "id": "158bb5aa",
   "metadata": {},
   "source": [
    "## Load Dataset"
   ]
  },
  {
   "cell_type": "code",
   "execution_count": 2,
   "id": "518a901a",
   "metadata": {},
   "outputs": [
    {
     "data": {
      "text/html": [
       "<div>\n",
       "<style scoped>\n",
       "    .dataframe tbody tr th:only-of-type {\n",
       "        vertical-align: middle;\n",
       "    }\n",
       "\n",
       "    .dataframe tbody tr th {\n",
       "        vertical-align: top;\n",
       "    }\n",
       "\n",
       "    .dataframe thead th {\n",
       "        text-align: right;\n",
       "    }\n",
       "</style>\n",
       "<table border=\"1\" class=\"dataframe\">\n",
       "  <thead>\n",
       "    <tr style=\"text-align: right;\">\n",
       "      <th></th>\n",
       "      <th>ID</th>\n",
       "      <th>Year_Birth</th>\n",
       "      <th>Education</th>\n",
       "      <th>Marital_Status</th>\n",
       "      <th>Income</th>\n",
       "      <th>Kidhome</th>\n",
       "      <th>Teenhome</th>\n",
       "      <th>Dt_Customer</th>\n",
       "      <th>Recency</th>\n",
       "      <th>MntWines</th>\n",
       "      <th>...</th>\n",
       "      <th>NumWebVisitsMonth</th>\n",
       "      <th>AcceptedCmp3</th>\n",
       "      <th>AcceptedCmp4</th>\n",
       "      <th>AcceptedCmp5</th>\n",
       "      <th>AcceptedCmp1</th>\n",
       "      <th>AcceptedCmp2</th>\n",
       "      <th>Complain</th>\n",
       "      <th>Z_CostContact</th>\n",
       "      <th>Z_Revenue</th>\n",
       "      <th>Response</th>\n",
       "    </tr>\n",
       "  </thead>\n",
       "  <tbody>\n",
       "    <tr>\n",
       "      <th>0</th>\n",
       "      <td>5524</td>\n",
       "      <td>1957</td>\n",
       "      <td>Graduation</td>\n",
       "      <td>Single</td>\n",
       "      <td>58138.0</td>\n",
       "      <td>0</td>\n",
       "      <td>0</td>\n",
       "      <td>04/09/2012</td>\n",
       "      <td>58</td>\n",
       "      <td>635</td>\n",
       "      <td>...</td>\n",
       "      <td>7</td>\n",
       "      <td>0</td>\n",
       "      <td>0</td>\n",
       "      <td>0</td>\n",
       "      <td>0</td>\n",
       "      <td>0</td>\n",
       "      <td>0</td>\n",
       "      <td>3</td>\n",
       "      <td>11</td>\n",
       "      <td>1</td>\n",
       "    </tr>\n",
       "    <tr>\n",
       "      <th>1</th>\n",
       "      <td>2174</td>\n",
       "      <td>1954</td>\n",
       "      <td>Graduation</td>\n",
       "      <td>Single</td>\n",
       "      <td>46344.0</td>\n",
       "      <td>1</td>\n",
       "      <td>1</td>\n",
       "      <td>08/03/2014</td>\n",
       "      <td>38</td>\n",
       "      <td>11</td>\n",
       "      <td>...</td>\n",
       "      <td>5</td>\n",
       "      <td>0</td>\n",
       "      <td>0</td>\n",
       "      <td>0</td>\n",
       "      <td>0</td>\n",
       "      <td>0</td>\n",
       "      <td>0</td>\n",
       "      <td>3</td>\n",
       "      <td>11</td>\n",
       "      <td>0</td>\n",
       "    </tr>\n",
       "    <tr>\n",
       "      <th>2</th>\n",
       "      <td>4141</td>\n",
       "      <td>1965</td>\n",
       "      <td>Graduation</td>\n",
       "      <td>Together</td>\n",
       "      <td>71613.0</td>\n",
       "      <td>0</td>\n",
       "      <td>0</td>\n",
       "      <td>21-08-2013</td>\n",
       "      <td>26</td>\n",
       "      <td>426</td>\n",
       "      <td>...</td>\n",
       "      <td>4</td>\n",
       "      <td>0</td>\n",
       "      <td>0</td>\n",
       "      <td>0</td>\n",
       "      <td>0</td>\n",
       "      <td>0</td>\n",
       "      <td>0</td>\n",
       "      <td>3</td>\n",
       "      <td>11</td>\n",
       "      <td>0</td>\n",
       "    </tr>\n",
       "    <tr>\n",
       "      <th>3</th>\n",
       "      <td>6182</td>\n",
       "      <td>1984</td>\n",
       "      <td>Graduation</td>\n",
       "      <td>Together</td>\n",
       "      <td>26646.0</td>\n",
       "      <td>1</td>\n",
       "      <td>0</td>\n",
       "      <td>10/02/2014</td>\n",
       "      <td>26</td>\n",
       "      <td>11</td>\n",
       "      <td>...</td>\n",
       "      <td>6</td>\n",
       "      <td>0</td>\n",
       "      <td>0</td>\n",
       "      <td>0</td>\n",
       "      <td>0</td>\n",
       "      <td>0</td>\n",
       "      <td>0</td>\n",
       "      <td>3</td>\n",
       "      <td>11</td>\n",
       "      <td>0</td>\n",
       "    </tr>\n",
       "    <tr>\n",
       "      <th>4</th>\n",
       "      <td>5324</td>\n",
       "      <td>1981</td>\n",
       "      <td>PhD</td>\n",
       "      <td>Married</td>\n",
       "      <td>58293.0</td>\n",
       "      <td>1</td>\n",
       "      <td>0</td>\n",
       "      <td>19-01-2014</td>\n",
       "      <td>94</td>\n",
       "      <td>173</td>\n",
       "      <td>...</td>\n",
       "      <td>5</td>\n",
       "      <td>0</td>\n",
       "      <td>0</td>\n",
       "      <td>0</td>\n",
       "      <td>0</td>\n",
       "      <td>0</td>\n",
       "      <td>0</td>\n",
       "      <td>3</td>\n",
       "      <td>11</td>\n",
       "      <td>0</td>\n",
       "    </tr>\n",
       "  </tbody>\n",
       "</table>\n",
       "<p>5 rows × 29 columns</p>\n",
       "</div>"
      ],
      "text/plain": [
       "     ID  Year_Birth   Education Marital_Status   Income  Kidhome  Teenhome  \\\n",
       "0  5524        1957  Graduation         Single  58138.0        0         0   \n",
       "1  2174        1954  Graduation         Single  46344.0        1         1   \n",
       "2  4141        1965  Graduation       Together  71613.0        0         0   \n",
       "3  6182        1984  Graduation       Together  26646.0        1         0   \n",
       "4  5324        1981         PhD        Married  58293.0        1         0   \n",
       "\n",
       "  Dt_Customer  Recency  MntWines  ...  NumWebVisitsMonth  AcceptedCmp3  \\\n",
       "0  04/09/2012       58       635  ...                  7             0   \n",
       "1  08/03/2014       38        11  ...                  5             0   \n",
       "2  21-08-2013       26       426  ...                  4             0   \n",
       "3  10/02/2014       26        11  ...                  6             0   \n",
       "4  19-01-2014       94       173  ...                  5             0   \n",
       "\n",
       "   AcceptedCmp4  AcceptedCmp5  AcceptedCmp1  AcceptedCmp2  Complain  \\\n",
       "0             0             0             0             0         0   \n",
       "1             0             0             0             0         0   \n",
       "2             0             0             0             0         0   \n",
       "3             0             0             0             0         0   \n",
       "4             0             0             0             0         0   \n",
       "\n",
       "   Z_CostContact  Z_Revenue  Response  \n",
       "0              3         11         1  \n",
       "1              3         11         0  \n",
       "2              3         11         0  \n",
       "3              3         11         0  \n",
       "4              3         11         0  \n",
       "\n",
       "[5 rows x 29 columns]"
      ]
     },
     "execution_count": 2,
     "metadata": {},
     "output_type": "execute_result"
    }
   ],
   "source": [
    "df = pd.read_csv(r'C:\\Users\\ATINA\\Documents\\PWD\\Handout Slides\\Modul 2-done\\capstone\\dataset\\SupermarketCustomers.csv')\n",
    "df.head()"
   ]
  },
  {
   "cell_type": "markdown",
   "id": "2b4d5a70",
   "metadata": {},
   "source": [
    "## Data Exploration and Cleaning"
   ]
  },
  {
   "cell_type": "code",
   "execution_count": 3,
   "id": "5ba09490",
   "metadata": {},
   "outputs": [
    {
     "name": "stdout",
     "output_type": "stream",
     "text": [
      "Number of rows: 2240\n",
      "Number of columns: 29\n"
     ]
    }
   ],
   "source": [
    "shape = df.shape\n",
    "\n",
    "print(f\"Number of rows: {shape[0]}\")\n",
    "print(f\"Number of columns: {shape[1]}\")"
   ]
  },
  {
   "cell_type": "code",
   "execution_count": 4,
   "id": "5ab3ccfb",
   "metadata": {},
   "outputs": [
    {
     "data": {
      "text/plain": [
       "Index(['ID', 'Year_Birth', 'Education', 'Marital_Status', 'Income', 'Kidhome',\n",
       "       'Teenhome', 'Dt_Customer', 'Recency', 'MntWines', 'MntFruits',\n",
       "       'MntMeatProducts', 'MntFishProducts', 'MntSweetProducts',\n",
       "       'MntGoldProds', 'NumDealsPurchases', 'NumWebPurchases',\n",
       "       'NumCatalogPurchases', 'NumStorePurchases', 'NumWebVisitsMonth',\n",
       "       'AcceptedCmp3', 'AcceptedCmp4', 'AcceptedCmp5', 'AcceptedCmp1',\n",
       "       'AcceptedCmp2', 'Complain', 'Z_CostContact', 'Z_Revenue', 'Response'],\n",
       "      dtype='object')"
      ]
     },
     "execution_count": 4,
     "metadata": {},
     "output_type": "execute_result"
    }
   ],
   "source": [
    "df.columns"
   ]
  },
  {
   "cell_type": "markdown",
   "id": "9cfac4b7",
   "metadata": {},
   "source": [
    "There are 2240 rows and 29 columns in this dataset, meaning there area 2240 customers and 29 information about each customer. The information is grouped into 4 categories, which are: \n",
    "\n",
    "**People**\n",
    "1. ID: unique identifier\n",
    "2. Year_Birth: birth year\n",
    "3. Marital_Status: marital status\n",
    "4. Income: Yealy household income\n",
    "5. Kidhome: Number of children in customer's household\n",
    "6. Teenhome: Number of teenagers in customer's household\n",
    "7. Dt_Customer: Date of customer's enrollment with the company\n",
    "8. Recency: Number of days since customer's last purchase\n",
    "9. Complain: 1 if the customer complained in the last 2 years, 0 otherwise\n",
    "\n",
    "**Products**:\n",
    "1. MntWines: Amount spent on wine in last 2 years\n",
    "2. MntFruits: Amount spent on fruits in last 2 years\n",
    "3. MntMeatProducts: Amount spent on meat in last 2 years\n",
    "4. MntFishProducts: Amount spent on fish in last 2 years\n",
    "5. MntSweetProducts: Amount spent on sweets in last 2 years\n",
    "6. MntGoldProds: Amount spent on gold in last 2 years\n",
    "\n",
    "**Promotion**\n",
    "1. NumDealsPurchases: Number of purchases made with a discount\n",
    "2. AcceptedCmp1: 1 if the customer accepted the offer in the 1st campaign, 0 otherwise\n",
    "3. AcceptedCmp2: 1 if the customer accepted the offer in the 2nd campaign, 0 otherwise\n",
    "4. AcceptedCmp3: 1 if the customer accepted the offer in the 3rd campaign, 0 otherwise\n",
    "5. AcceptedCmp4: 1 if the customer accepted the offer in the 4th campaign, 0 otherwise\n",
    "6. AcceptedCmp5: 1 if the customer accepted the offer in the 5th campaign, 0 otherwise\n",
    "7. Response: 1 if the customer accepted the offer in the last campaign, 0 otherwise\n",
    "\n",
    "**Place**\n",
    "1. NumWebPurchases: Number of purchases made through the company’s website\n",
    "2. NumCatalogPurchases: Number of purchases made using a catalog\n",
    "3. NumStorePurchases: Number of purchases made directly in stores\n",
    "4. NumWebVisitsMonth: Number of visits to the company’s website in the last month"
   ]
  },
  {
   "cell_type": "code",
   "execution_count": 5,
   "id": "d43b80de",
   "metadata": {},
   "outputs": [
    {
     "data": {
      "text/plain": [
       "ID                       int64\n",
       "Year_Birth               int64\n",
       "Education               object\n",
       "Marital_Status          object\n",
       "Income                 float64\n",
       "Kidhome                  int64\n",
       "Teenhome                 int64\n",
       "Dt_Customer             object\n",
       "Recency                  int64\n",
       "MntWines                 int64\n",
       "MntFruits                int64\n",
       "MntMeatProducts          int64\n",
       "MntFishProducts          int64\n",
       "MntSweetProducts         int64\n",
       "MntGoldProds             int64\n",
       "NumDealsPurchases        int64\n",
       "NumWebPurchases          int64\n",
       "NumCatalogPurchases      int64\n",
       "NumStorePurchases        int64\n",
       "NumWebVisitsMonth        int64\n",
       "AcceptedCmp3             int64\n",
       "AcceptedCmp4             int64\n",
       "AcceptedCmp5             int64\n",
       "AcceptedCmp1             int64\n",
       "AcceptedCmp2             int64\n",
       "Complain                 int64\n",
       "Z_CostContact            int64\n",
       "Z_Revenue                int64\n",
       "Response                 int64\n",
       "dtype: object"
      ]
     },
     "execution_count": 5,
     "metadata": {},
     "output_type": "execute_result"
    }
   ],
   "source": [
    "df.dtypes"
   ]
  },
  {
   "cell_type": "code",
   "execution_count": 6,
   "id": "27f92828",
   "metadata": {},
   "outputs": [
    {
     "data": {
      "text/html": [
       "<div>\n",
       "<style scoped>\n",
       "    .dataframe tbody tr th:only-of-type {\n",
       "        vertical-align: middle;\n",
       "    }\n",
       "\n",
       "    .dataframe tbody tr th {\n",
       "        vertical-align: top;\n",
       "    }\n",
       "\n",
       "    .dataframe thead th {\n",
       "        text-align: right;\n",
       "    }\n",
       "</style>\n",
       "<table border=\"1\" class=\"dataframe\">\n",
       "  <thead>\n",
       "    <tr style=\"text-align: right;\">\n",
       "      <th></th>\n",
       "      <th>ID</th>\n",
       "      <th>Year_Birth</th>\n",
       "      <th>Education</th>\n",
       "      <th>Marital_Status</th>\n",
       "      <th>Income</th>\n",
       "      <th>Kidhome</th>\n",
       "      <th>Teenhome</th>\n",
       "      <th>Dt_Customer</th>\n",
       "      <th>Recency</th>\n",
       "      <th>MntWines</th>\n",
       "      <th>...</th>\n",
       "      <th>NumWebVisitsMonth</th>\n",
       "      <th>AcceptedCmp3</th>\n",
       "      <th>AcceptedCmp4</th>\n",
       "      <th>AcceptedCmp5</th>\n",
       "      <th>AcceptedCmp1</th>\n",
       "      <th>AcceptedCmp2</th>\n",
       "      <th>Complain</th>\n",
       "      <th>Z_CostContact</th>\n",
       "      <th>Z_Revenue</th>\n",
       "      <th>Response</th>\n",
       "    </tr>\n",
       "  </thead>\n",
       "  <tbody>\n",
       "    <tr>\n",
       "      <th>count</th>\n",
       "      <td>2240.000000</td>\n",
       "      <td>2240.000000</td>\n",
       "      <td>2240</td>\n",
       "      <td>2240</td>\n",
       "      <td>2216.000000</td>\n",
       "      <td>2240.000000</td>\n",
       "      <td>2240.000000</td>\n",
       "      <td>2240</td>\n",
       "      <td>2240.000000</td>\n",
       "      <td>2240.000000</td>\n",
       "      <td>...</td>\n",
       "      <td>2240.000000</td>\n",
       "      <td>2240.000000</td>\n",
       "      <td>2240.000000</td>\n",
       "      <td>2240.000000</td>\n",
       "      <td>2240.000000</td>\n",
       "      <td>2240.000000</td>\n",
       "      <td>2240.000000</td>\n",
       "      <td>2240.0</td>\n",
       "      <td>2240.0</td>\n",
       "      <td>2240.000000</td>\n",
       "    </tr>\n",
       "    <tr>\n",
       "      <th>unique</th>\n",
       "      <td>NaN</td>\n",
       "      <td>NaN</td>\n",
       "      <td>5</td>\n",
       "      <td>8</td>\n",
       "      <td>NaN</td>\n",
       "      <td>NaN</td>\n",
       "      <td>NaN</td>\n",
       "      <td>663</td>\n",
       "      <td>NaN</td>\n",
       "      <td>NaN</td>\n",
       "      <td>...</td>\n",
       "      <td>NaN</td>\n",
       "      <td>NaN</td>\n",
       "      <td>NaN</td>\n",
       "      <td>NaN</td>\n",
       "      <td>NaN</td>\n",
       "      <td>NaN</td>\n",
       "      <td>NaN</td>\n",
       "      <td>NaN</td>\n",
       "      <td>NaN</td>\n",
       "      <td>NaN</td>\n",
       "    </tr>\n",
       "    <tr>\n",
       "      <th>top</th>\n",
       "      <td>NaN</td>\n",
       "      <td>NaN</td>\n",
       "      <td>Graduation</td>\n",
       "      <td>Married</td>\n",
       "      <td>NaN</td>\n",
       "      <td>NaN</td>\n",
       "      <td>NaN</td>\n",
       "      <td>31-08-2012</td>\n",
       "      <td>NaN</td>\n",
       "      <td>NaN</td>\n",
       "      <td>...</td>\n",
       "      <td>NaN</td>\n",
       "      <td>NaN</td>\n",
       "      <td>NaN</td>\n",
       "      <td>NaN</td>\n",
       "      <td>NaN</td>\n",
       "      <td>NaN</td>\n",
       "      <td>NaN</td>\n",
       "      <td>NaN</td>\n",
       "      <td>NaN</td>\n",
       "      <td>NaN</td>\n",
       "    </tr>\n",
       "    <tr>\n",
       "      <th>freq</th>\n",
       "      <td>NaN</td>\n",
       "      <td>NaN</td>\n",
       "      <td>1127</td>\n",
       "      <td>864</td>\n",
       "      <td>NaN</td>\n",
       "      <td>NaN</td>\n",
       "      <td>NaN</td>\n",
       "      <td>12</td>\n",
       "      <td>NaN</td>\n",
       "      <td>NaN</td>\n",
       "      <td>...</td>\n",
       "      <td>NaN</td>\n",
       "      <td>NaN</td>\n",
       "      <td>NaN</td>\n",
       "      <td>NaN</td>\n",
       "      <td>NaN</td>\n",
       "      <td>NaN</td>\n",
       "      <td>NaN</td>\n",
       "      <td>NaN</td>\n",
       "      <td>NaN</td>\n",
       "      <td>NaN</td>\n",
       "    </tr>\n",
       "    <tr>\n",
       "      <th>mean</th>\n",
       "      <td>5592.159821</td>\n",
       "      <td>1968.805804</td>\n",
       "      <td>NaN</td>\n",
       "      <td>NaN</td>\n",
       "      <td>52247.251354</td>\n",
       "      <td>0.444196</td>\n",
       "      <td>0.506250</td>\n",
       "      <td>NaN</td>\n",
       "      <td>49.109375</td>\n",
       "      <td>303.935714</td>\n",
       "      <td>...</td>\n",
       "      <td>5.316518</td>\n",
       "      <td>0.072768</td>\n",
       "      <td>0.074554</td>\n",
       "      <td>0.072768</td>\n",
       "      <td>0.064286</td>\n",
       "      <td>0.013393</td>\n",
       "      <td>0.009375</td>\n",
       "      <td>3.0</td>\n",
       "      <td>11.0</td>\n",
       "      <td>0.149107</td>\n",
       "    </tr>\n",
       "    <tr>\n",
       "      <th>std</th>\n",
       "      <td>3246.662198</td>\n",
       "      <td>11.984069</td>\n",
       "      <td>NaN</td>\n",
       "      <td>NaN</td>\n",
       "      <td>25173.076661</td>\n",
       "      <td>0.538398</td>\n",
       "      <td>0.544538</td>\n",
       "      <td>NaN</td>\n",
       "      <td>28.962453</td>\n",
       "      <td>336.597393</td>\n",
       "      <td>...</td>\n",
       "      <td>2.426645</td>\n",
       "      <td>0.259813</td>\n",
       "      <td>0.262728</td>\n",
       "      <td>0.259813</td>\n",
       "      <td>0.245316</td>\n",
       "      <td>0.114976</td>\n",
       "      <td>0.096391</td>\n",
       "      <td>0.0</td>\n",
       "      <td>0.0</td>\n",
       "      <td>0.356274</td>\n",
       "    </tr>\n",
       "    <tr>\n",
       "      <th>min</th>\n",
       "      <td>0.000000</td>\n",
       "      <td>1893.000000</td>\n",
       "      <td>NaN</td>\n",
       "      <td>NaN</td>\n",
       "      <td>1730.000000</td>\n",
       "      <td>0.000000</td>\n",
       "      <td>0.000000</td>\n",
       "      <td>NaN</td>\n",
       "      <td>0.000000</td>\n",
       "      <td>0.000000</td>\n",
       "      <td>...</td>\n",
       "      <td>0.000000</td>\n",
       "      <td>0.000000</td>\n",
       "      <td>0.000000</td>\n",
       "      <td>0.000000</td>\n",
       "      <td>0.000000</td>\n",
       "      <td>0.000000</td>\n",
       "      <td>0.000000</td>\n",
       "      <td>3.0</td>\n",
       "      <td>11.0</td>\n",
       "      <td>0.000000</td>\n",
       "    </tr>\n",
       "    <tr>\n",
       "      <th>25%</th>\n",
       "      <td>2828.250000</td>\n",
       "      <td>1959.000000</td>\n",
       "      <td>NaN</td>\n",
       "      <td>NaN</td>\n",
       "      <td>35303.000000</td>\n",
       "      <td>0.000000</td>\n",
       "      <td>0.000000</td>\n",
       "      <td>NaN</td>\n",
       "      <td>24.000000</td>\n",
       "      <td>23.750000</td>\n",
       "      <td>...</td>\n",
       "      <td>3.000000</td>\n",
       "      <td>0.000000</td>\n",
       "      <td>0.000000</td>\n",
       "      <td>0.000000</td>\n",
       "      <td>0.000000</td>\n",
       "      <td>0.000000</td>\n",
       "      <td>0.000000</td>\n",
       "      <td>3.0</td>\n",
       "      <td>11.0</td>\n",
       "      <td>0.000000</td>\n",
       "    </tr>\n",
       "    <tr>\n",
       "      <th>50%</th>\n",
       "      <td>5458.500000</td>\n",
       "      <td>1970.000000</td>\n",
       "      <td>NaN</td>\n",
       "      <td>NaN</td>\n",
       "      <td>51381.500000</td>\n",
       "      <td>0.000000</td>\n",
       "      <td>0.000000</td>\n",
       "      <td>NaN</td>\n",
       "      <td>49.000000</td>\n",
       "      <td>173.500000</td>\n",
       "      <td>...</td>\n",
       "      <td>6.000000</td>\n",
       "      <td>0.000000</td>\n",
       "      <td>0.000000</td>\n",
       "      <td>0.000000</td>\n",
       "      <td>0.000000</td>\n",
       "      <td>0.000000</td>\n",
       "      <td>0.000000</td>\n",
       "      <td>3.0</td>\n",
       "      <td>11.0</td>\n",
       "      <td>0.000000</td>\n",
       "    </tr>\n",
       "    <tr>\n",
       "      <th>75%</th>\n",
       "      <td>8427.750000</td>\n",
       "      <td>1977.000000</td>\n",
       "      <td>NaN</td>\n",
       "      <td>NaN</td>\n",
       "      <td>68522.000000</td>\n",
       "      <td>1.000000</td>\n",
       "      <td>1.000000</td>\n",
       "      <td>NaN</td>\n",
       "      <td>74.000000</td>\n",
       "      <td>504.250000</td>\n",
       "      <td>...</td>\n",
       "      <td>7.000000</td>\n",
       "      <td>0.000000</td>\n",
       "      <td>0.000000</td>\n",
       "      <td>0.000000</td>\n",
       "      <td>0.000000</td>\n",
       "      <td>0.000000</td>\n",
       "      <td>0.000000</td>\n",
       "      <td>3.0</td>\n",
       "      <td>11.0</td>\n",
       "      <td>0.000000</td>\n",
       "    </tr>\n",
       "    <tr>\n",
       "      <th>max</th>\n",
       "      <td>11191.000000</td>\n",
       "      <td>1996.000000</td>\n",
       "      <td>NaN</td>\n",
       "      <td>NaN</td>\n",
       "      <td>666666.000000</td>\n",
       "      <td>2.000000</td>\n",
       "      <td>2.000000</td>\n",
       "      <td>NaN</td>\n",
       "      <td>99.000000</td>\n",
       "      <td>1493.000000</td>\n",
       "      <td>...</td>\n",
       "      <td>20.000000</td>\n",
       "      <td>1.000000</td>\n",
       "      <td>1.000000</td>\n",
       "      <td>1.000000</td>\n",
       "      <td>1.000000</td>\n",
       "      <td>1.000000</td>\n",
       "      <td>1.000000</td>\n",
       "      <td>3.0</td>\n",
       "      <td>11.0</td>\n",
       "      <td>1.000000</td>\n",
       "    </tr>\n",
       "  </tbody>\n",
       "</table>\n",
       "<p>11 rows × 29 columns</p>\n",
       "</div>"
      ],
      "text/plain": [
       "                  ID   Year_Birth   Education Marital_Status         Income  \\\n",
       "count    2240.000000  2240.000000        2240           2240    2216.000000   \n",
       "unique           NaN          NaN           5              8            NaN   \n",
       "top              NaN          NaN  Graduation        Married            NaN   \n",
       "freq             NaN          NaN        1127            864            NaN   \n",
       "mean     5592.159821  1968.805804         NaN            NaN   52247.251354   \n",
       "std      3246.662198    11.984069         NaN            NaN   25173.076661   \n",
       "min         0.000000  1893.000000         NaN            NaN    1730.000000   \n",
       "25%      2828.250000  1959.000000         NaN            NaN   35303.000000   \n",
       "50%      5458.500000  1970.000000         NaN            NaN   51381.500000   \n",
       "75%      8427.750000  1977.000000         NaN            NaN   68522.000000   \n",
       "max     11191.000000  1996.000000         NaN            NaN  666666.000000   \n",
       "\n",
       "            Kidhome     Teenhome Dt_Customer      Recency     MntWines  ...  \\\n",
       "count   2240.000000  2240.000000        2240  2240.000000  2240.000000  ...   \n",
       "unique          NaN          NaN         663          NaN          NaN  ...   \n",
       "top             NaN          NaN  31-08-2012          NaN          NaN  ...   \n",
       "freq            NaN          NaN          12          NaN          NaN  ...   \n",
       "mean       0.444196     0.506250         NaN    49.109375   303.935714  ...   \n",
       "std        0.538398     0.544538         NaN    28.962453   336.597393  ...   \n",
       "min        0.000000     0.000000         NaN     0.000000     0.000000  ...   \n",
       "25%        0.000000     0.000000         NaN    24.000000    23.750000  ...   \n",
       "50%        0.000000     0.000000         NaN    49.000000   173.500000  ...   \n",
       "75%        1.000000     1.000000         NaN    74.000000   504.250000  ...   \n",
       "max        2.000000     2.000000         NaN    99.000000  1493.000000  ...   \n",
       "\n",
       "        NumWebVisitsMonth  AcceptedCmp3  AcceptedCmp4  AcceptedCmp5  \\\n",
       "count         2240.000000   2240.000000   2240.000000   2240.000000   \n",
       "unique                NaN           NaN           NaN           NaN   \n",
       "top                   NaN           NaN           NaN           NaN   \n",
       "freq                  NaN           NaN           NaN           NaN   \n",
       "mean             5.316518      0.072768      0.074554      0.072768   \n",
       "std              2.426645      0.259813      0.262728      0.259813   \n",
       "min              0.000000      0.000000      0.000000      0.000000   \n",
       "25%              3.000000      0.000000      0.000000      0.000000   \n",
       "50%              6.000000      0.000000      0.000000      0.000000   \n",
       "75%              7.000000      0.000000      0.000000      0.000000   \n",
       "max             20.000000      1.000000      1.000000      1.000000   \n",
       "\n",
       "        AcceptedCmp1  AcceptedCmp2     Complain  Z_CostContact  Z_Revenue  \\\n",
       "count    2240.000000   2240.000000  2240.000000         2240.0     2240.0   \n",
       "unique           NaN           NaN          NaN            NaN        NaN   \n",
       "top              NaN           NaN          NaN            NaN        NaN   \n",
       "freq             NaN           NaN          NaN            NaN        NaN   \n",
       "mean        0.064286      0.013393     0.009375            3.0       11.0   \n",
       "std         0.245316      0.114976     0.096391            0.0        0.0   \n",
       "min         0.000000      0.000000     0.000000            3.0       11.0   \n",
       "25%         0.000000      0.000000     0.000000            3.0       11.0   \n",
       "50%         0.000000      0.000000     0.000000            3.0       11.0   \n",
       "75%         0.000000      0.000000     0.000000            3.0       11.0   \n",
       "max         1.000000      1.000000     1.000000            3.0       11.0   \n",
       "\n",
       "           Response  \n",
       "count   2240.000000  \n",
       "unique          NaN  \n",
       "top             NaN  \n",
       "freq            NaN  \n",
       "mean       0.149107  \n",
       "std        0.356274  \n",
       "min        0.000000  \n",
       "25%        0.000000  \n",
       "50%        0.000000  \n",
       "75%        0.000000  \n",
       "max        1.000000  \n",
       "\n",
       "[11 rows x 29 columns]"
      ]
     },
     "execution_count": 6,
     "metadata": {},
     "output_type": "execute_result"
    }
   ],
   "source": [
    "df.describe(include='all')"
   ]
  },
  {
   "cell_type": "markdown",
   "id": "c799d885",
   "metadata": {},
   "source": [
    "Dt_Customer is object, thus it will be converted to date time."
   ]
  },
  {
   "cell_type": "code",
   "execution_count": 7,
   "id": "4fe22e95",
   "metadata": {},
   "outputs": [
    {
     "name": "stderr",
     "output_type": "stream",
     "text": [
      "C:\\Users\\ATINA\\AppData\\Local\\Temp\\ipykernel_12868\\177162232.py:1: UserWarning: Parsing dates in DD/MM/YYYY format when dayfirst=False (the default) was specified. This may lead to inconsistently parsed dates! Specify a format to ensure consistent parsing.\n",
      "  df['Dt_Customer'] = pd.to_datetime(df['Dt_Customer'])\n"
     ]
    }
   ],
   "source": [
    "df['Dt_Customer'] = pd.to_datetime(df['Dt_Customer'])"
   ]
  },
  {
   "cell_type": "markdown",
   "id": "50da1e1f",
   "metadata": {},
   "source": [
    "### Check null values"
   ]
  },
  {
   "cell_type": "code",
   "execution_count": 8,
   "id": "90503ca8",
   "metadata": {},
   "outputs": [
    {
     "data": {
      "text/plain": [
       "ID                      0\n",
       "Year_Birth              0\n",
       "Education               0\n",
       "Marital_Status          0\n",
       "Income                 24\n",
       "Kidhome                 0\n",
       "Teenhome                0\n",
       "Dt_Customer             0\n",
       "Recency                 0\n",
       "MntWines                0\n",
       "MntFruits               0\n",
       "MntMeatProducts         0\n",
       "MntFishProducts         0\n",
       "MntSweetProducts        0\n",
       "MntGoldProds            0\n",
       "NumDealsPurchases       0\n",
       "NumWebPurchases         0\n",
       "NumCatalogPurchases     0\n",
       "NumStorePurchases       0\n",
       "NumWebVisitsMonth       0\n",
       "AcceptedCmp3            0\n",
       "AcceptedCmp4            0\n",
       "AcceptedCmp5            0\n",
       "AcceptedCmp1            0\n",
       "AcceptedCmp2            0\n",
       "Complain                0\n",
       "Z_CostContact           0\n",
       "Z_Revenue               0\n",
       "Response                0\n",
       "dtype: int64"
      ]
     },
     "execution_count": 8,
     "metadata": {},
     "output_type": "execute_result"
    }
   ],
   "source": [
    "df.isnull().sum()"
   ]
  },
  {
   "cell_type": "markdown",
   "id": "07bdb9c2",
   "metadata": {},
   "source": [
    "There are 24 customers with NaN Income as shown in code below. The data will be checked for its normality and if it is normal, meean value will be used to fill in the empty value. Otherwise, median is used."
   ]
  },
  {
   "cell_type": "code",
   "execution_count": 9,
   "id": "1e6c4942",
   "metadata": {},
   "outputs": [
    {
     "data": {
      "text/html": [
       "<div>\n",
       "<style scoped>\n",
       "    .dataframe tbody tr th:only-of-type {\n",
       "        vertical-align: middle;\n",
       "    }\n",
       "\n",
       "    .dataframe tbody tr th {\n",
       "        vertical-align: top;\n",
       "    }\n",
       "\n",
       "    .dataframe thead th {\n",
       "        text-align: right;\n",
       "    }\n",
       "</style>\n",
       "<table border=\"1\" class=\"dataframe\">\n",
       "  <thead>\n",
       "    <tr style=\"text-align: right;\">\n",
       "      <th></th>\n",
       "      <th>ID</th>\n",
       "      <th>Year_Birth</th>\n",
       "      <th>Education</th>\n",
       "      <th>Marital_Status</th>\n",
       "      <th>Income</th>\n",
       "      <th>Kidhome</th>\n",
       "      <th>Teenhome</th>\n",
       "      <th>Dt_Customer</th>\n",
       "      <th>Recency</th>\n",
       "      <th>MntWines</th>\n",
       "      <th>...</th>\n",
       "      <th>NumWebVisitsMonth</th>\n",
       "      <th>AcceptedCmp3</th>\n",
       "      <th>AcceptedCmp4</th>\n",
       "      <th>AcceptedCmp5</th>\n",
       "      <th>AcceptedCmp1</th>\n",
       "      <th>AcceptedCmp2</th>\n",
       "      <th>Complain</th>\n",
       "      <th>Z_CostContact</th>\n",
       "      <th>Z_Revenue</th>\n",
       "      <th>Response</th>\n",
       "    </tr>\n",
       "  </thead>\n",
       "  <tbody>\n",
       "    <tr>\n",
       "      <th>10</th>\n",
       "      <td>1994</td>\n",
       "      <td>1983</td>\n",
       "      <td>Graduation</td>\n",
       "      <td>Married</td>\n",
       "      <td>NaN</td>\n",
       "      <td>1</td>\n",
       "      <td>0</td>\n",
       "      <td>2013-11-15</td>\n",
       "      <td>11</td>\n",
       "      <td>5</td>\n",
       "      <td>...</td>\n",
       "      <td>7</td>\n",
       "      <td>0</td>\n",
       "      <td>0</td>\n",
       "      <td>0</td>\n",
       "      <td>0</td>\n",
       "      <td>0</td>\n",
       "      <td>0</td>\n",
       "      <td>3</td>\n",
       "      <td>11</td>\n",
       "      <td>0</td>\n",
       "    </tr>\n",
       "    <tr>\n",
       "      <th>27</th>\n",
       "      <td>5255</td>\n",
       "      <td>1986</td>\n",
       "      <td>Graduation</td>\n",
       "      <td>Single</td>\n",
       "      <td>NaN</td>\n",
       "      <td>1</td>\n",
       "      <td>0</td>\n",
       "      <td>2013-02-20</td>\n",
       "      <td>19</td>\n",
       "      <td>5</td>\n",
       "      <td>...</td>\n",
       "      <td>1</td>\n",
       "      <td>0</td>\n",
       "      <td>0</td>\n",
       "      <td>0</td>\n",
       "      <td>0</td>\n",
       "      <td>0</td>\n",
       "      <td>0</td>\n",
       "      <td>3</td>\n",
       "      <td>11</td>\n",
       "      <td>0</td>\n",
       "    </tr>\n",
       "    <tr>\n",
       "      <th>43</th>\n",
       "      <td>7281</td>\n",
       "      <td>1959</td>\n",
       "      <td>PhD</td>\n",
       "      <td>Single</td>\n",
       "      <td>NaN</td>\n",
       "      <td>0</td>\n",
       "      <td>0</td>\n",
       "      <td>2013-05-11</td>\n",
       "      <td>80</td>\n",
       "      <td>81</td>\n",
       "      <td>...</td>\n",
       "      <td>2</td>\n",
       "      <td>0</td>\n",
       "      <td>0</td>\n",
       "      <td>0</td>\n",
       "      <td>0</td>\n",
       "      <td>0</td>\n",
       "      <td>0</td>\n",
       "      <td>3</td>\n",
       "      <td>11</td>\n",
       "      <td>0</td>\n",
       "    </tr>\n",
       "    <tr>\n",
       "      <th>48</th>\n",
       "      <td>7244</td>\n",
       "      <td>1951</td>\n",
       "      <td>Graduation</td>\n",
       "      <td>Single</td>\n",
       "      <td>NaN</td>\n",
       "      <td>2</td>\n",
       "      <td>1</td>\n",
       "      <td>2014-01-01</td>\n",
       "      <td>96</td>\n",
       "      <td>48</td>\n",
       "      <td>...</td>\n",
       "      <td>6</td>\n",
       "      <td>0</td>\n",
       "      <td>0</td>\n",
       "      <td>0</td>\n",
       "      <td>0</td>\n",
       "      <td>0</td>\n",
       "      <td>0</td>\n",
       "      <td>3</td>\n",
       "      <td>11</td>\n",
       "      <td>0</td>\n",
       "    </tr>\n",
       "    <tr>\n",
       "      <th>58</th>\n",
       "      <td>8557</td>\n",
       "      <td>1982</td>\n",
       "      <td>Graduation</td>\n",
       "      <td>Single</td>\n",
       "      <td>NaN</td>\n",
       "      <td>1</td>\n",
       "      <td>0</td>\n",
       "      <td>2013-06-17</td>\n",
       "      <td>57</td>\n",
       "      <td>11</td>\n",
       "      <td>...</td>\n",
       "      <td>6</td>\n",
       "      <td>0</td>\n",
       "      <td>0</td>\n",
       "      <td>0</td>\n",
       "      <td>0</td>\n",
       "      <td>0</td>\n",
       "      <td>0</td>\n",
       "      <td>3</td>\n",
       "      <td>11</td>\n",
       "      <td>0</td>\n",
       "    </tr>\n",
       "    <tr>\n",
       "      <th>71</th>\n",
       "      <td>10629</td>\n",
       "      <td>1973</td>\n",
       "      <td>2n Cycle</td>\n",
       "      <td>Married</td>\n",
       "      <td>NaN</td>\n",
       "      <td>1</td>\n",
       "      <td>0</td>\n",
       "      <td>2012-09-14</td>\n",
       "      <td>25</td>\n",
       "      <td>25</td>\n",
       "      <td>...</td>\n",
       "      <td>8</td>\n",
       "      <td>0</td>\n",
       "      <td>0</td>\n",
       "      <td>0</td>\n",
       "      <td>0</td>\n",
       "      <td>0</td>\n",
       "      <td>0</td>\n",
       "      <td>3</td>\n",
       "      <td>11</td>\n",
       "      <td>0</td>\n",
       "    </tr>\n",
       "    <tr>\n",
       "      <th>90</th>\n",
       "      <td>8996</td>\n",
       "      <td>1957</td>\n",
       "      <td>PhD</td>\n",
       "      <td>Married</td>\n",
       "      <td>NaN</td>\n",
       "      <td>2</td>\n",
       "      <td>1</td>\n",
       "      <td>2012-11-19</td>\n",
       "      <td>4</td>\n",
       "      <td>230</td>\n",
       "      <td>...</td>\n",
       "      <td>9</td>\n",
       "      <td>0</td>\n",
       "      <td>0</td>\n",
       "      <td>0</td>\n",
       "      <td>0</td>\n",
       "      <td>0</td>\n",
       "      <td>0</td>\n",
       "      <td>3</td>\n",
       "      <td>11</td>\n",
       "      <td>0</td>\n",
       "    </tr>\n",
       "    <tr>\n",
       "      <th>91</th>\n",
       "      <td>9235</td>\n",
       "      <td>1957</td>\n",
       "      <td>Graduation</td>\n",
       "      <td>Single</td>\n",
       "      <td>NaN</td>\n",
       "      <td>1</td>\n",
       "      <td>1</td>\n",
       "      <td>2014-05-27</td>\n",
       "      <td>45</td>\n",
       "      <td>7</td>\n",
       "      <td>...</td>\n",
       "      <td>7</td>\n",
       "      <td>0</td>\n",
       "      <td>0</td>\n",
       "      <td>0</td>\n",
       "      <td>0</td>\n",
       "      <td>0</td>\n",
       "      <td>0</td>\n",
       "      <td>3</td>\n",
       "      <td>11</td>\n",
       "      <td>0</td>\n",
       "    </tr>\n",
       "    <tr>\n",
       "      <th>92</th>\n",
       "      <td>5798</td>\n",
       "      <td>1973</td>\n",
       "      <td>Master</td>\n",
       "      <td>Together</td>\n",
       "      <td>NaN</td>\n",
       "      <td>0</td>\n",
       "      <td>0</td>\n",
       "      <td>2013-11-23</td>\n",
       "      <td>87</td>\n",
       "      <td>445</td>\n",
       "      <td>...</td>\n",
       "      <td>1</td>\n",
       "      <td>0</td>\n",
       "      <td>0</td>\n",
       "      <td>0</td>\n",
       "      <td>0</td>\n",
       "      <td>0</td>\n",
       "      <td>0</td>\n",
       "      <td>3</td>\n",
       "      <td>11</td>\n",
       "      <td>0</td>\n",
       "    </tr>\n",
       "    <tr>\n",
       "      <th>128</th>\n",
       "      <td>8268</td>\n",
       "      <td>1961</td>\n",
       "      <td>PhD</td>\n",
       "      <td>Married</td>\n",
       "      <td>NaN</td>\n",
       "      <td>0</td>\n",
       "      <td>1</td>\n",
       "      <td>2013-11-07</td>\n",
       "      <td>23</td>\n",
       "      <td>352</td>\n",
       "      <td>...</td>\n",
       "      <td>6</td>\n",
       "      <td>0</td>\n",
       "      <td>0</td>\n",
       "      <td>0</td>\n",
       "      <td>0</td>\n",
       "      <td>0</td>\n",
       "      <td>0</td>\n",
       "      <td>3</td>\n",
       "      <td>11</td>\n",
       "      <td>0</td>\n",
       "    </tr>\n",
       "    <tr>\n",
       "      <th>133</th>\n",
       "      <td>1295</td>\n",
       "      <td>1963</td>\n",
       "      <td>Graduation</td>\n",
       "      <td>Married</td>\n",
       "      <td>NaN</td>\n",
       "      <td>0</td>\n",
       "      <td>1</td>\n",
       "      <td>2013-11-08</td>\n",
       "      <td>96</td>\n",
       "      <td>231</td>\n",
       "      <td>...</td>\n",
       "      <td>4</td>\n",
       "      <td>0</td>\n",
       "      <td>0</td>\n",
       "      <td>0</td>\n",
       "      <td>0</td>\n",
       "      <td>0</td>\n",
       "      <td>0</td>\n",
       "      <td>3</td>\n",
       "      <td>11</td>\n",
       "      <td>0</td>\n",
       "    </tr>\n",
       "    <tr>\n",
       "      <th>312</th>\n",
       "      <td>2437</td>\n",
       "      <td>1989</td>\n",
       "      <td>Graduation</td>\n",
       "      <td>Married</td>\n",
       "      <td>NaN</td>\n",
       "      <td>0</td>\n",
       "      <td>0</td>\n",
       "      <td>2013-03-06</td>\n",
       "      <td>69</td>\n",
       "      <td>861</td>\n",
       "      <td>...</td>\n",
       "      <td>3</td>\n",
       "      <td>0</td>\n",
       "      <td>1</td>\n",
       "      <td>0</td>\n",
       "      <td>1</td>\n",
       "      <td>0</td>\n",
       "      <td>0</td>\n",
       "      <td>3</td>\n",
       "      <td>11</td>\n",
       "      <td>0</td>\n",
       "    </tr>\n",
       "    <tr>\n",
       "      <th>319</th>\n",
       "      <td>2863</td>\n",
       "      <td>1970</td>\n",
       "      <td>Graduation</td>\n",
       "      <td>Single</td>\n",
       "      <td>NaN</td>\n",
       "      <td>1</td>\n",
       "      <td>2</td>\n",
       "      <td>2013-08-23</td>\n",
       "      <td>67</td>\n",
       "      <td>738</td>\n",
       "      <td>...</td>\n",
       "      <td>7</td>\n",
       "      <td>0</td>\n",
       "      <td>1</td>\n",
       "      <td>0</td>\n",
       "      <td>1</td>\n",
       "      <td>0</td>\n",
       "      <td>0</td>\n",
       "      <td>3</td>\n",
       "      <td>11</td>\n",
       "      <td>0</td>\n",
       "    </tr>\n",
       "    <tr>\n",
       "      <th>1379</th>\n",
       "      <td>10475</td>\n",
       "      <td>1970</td>\n",
       "      <td>Master</td>\n",
       "      <td>Together</td>\n",
       "      <td>NaN</td>\n",
       "      <td>0</td>\n",
       "      <td>1</td>\n",
       "      <td>2013-01-04</td>\n",
       "      <td>39</td>\n",
       "      <td>187</td>\n",
       "      <td>...</td>\n",
       "      <td>5</td>\n",
       "      <td>0</td>\n",
       "      <td>0</td>\n",
       "      <td>0</td>\n",
       "      <td>0</td>\n",
       "      <td>0</td>\n",
       "      <td>0</td>\n",
       "      <td>3</td>\n",
       "      <td>11</td>\n",
       "      <td>0</td>\n",
       "    </tr>\n",
       "    <tr>\n",
       "      <th>1382</th>\n",
       "      <td>2902</td>\n",
       "      <td>1958</td>\n",
       "      <td>Graduation</td>\n",
       "      <td>Together</td>\n",
       "      <td>NaN</td>\n",
       "      <td>1</td>\n",
       "      <td>1</td>\n",
       "      <td>2012-03-09</td>\n",
       "      <td>87</td>\n",
       "      <td>19</td>\n",
       "      <td>...</td>\n",
       "      <td>5</td>\n",
       "      <td>0</td>\n",
       "      <td>0</td>\n",
       "      <td>0</td>\n",
       "      <td>0</td>\n",
       "      <td>0</td>\n",
       "      <td>0</td>\n",
       "      <td>3</td>\n",
       "      <td>11</td>\n",
       "      <td>0</td>\n",
       "    </tr>\n",
       "    <tr>\n",
       "      <th>1383</th>\n",
       "      <td>4345</td>\n",
       "      <td>1964</td>\n",
       "      <td>2n Cycle</td>\n",
       "      <td>Single</td>\n",
       "      <td>NaN</td>\n",
       "      <td>1</td>\n",
       "      <td>1</td>\n",
       "      <td>2014-12-01</td>\n",
       "      <td>49</td>\n",
       "      <td>5</td>\n",
       "      <td>...</td>\n",
       "      <td>7</td>\n",
       "      <td>0</td>\n",
       "      <td>0</td>\n",
       "      <td>0</td>\n",
       "      <td>0</td>\n",
       "      <td>0</td>\n",
       "      <td>0</td>\n",
       "      <td>3</td>\n",
       "      <td>11</td>\n",
       "      <td>0</td>\n",
       "    </tr>\n",
       "    <tr>\n",
       "      <th>1386</th>\n",
       "      <td>3769</td>\n",
       "      <td>1972</td>\n",
       "      <td>PhD</td>\n",
       "      <td>Together</td>\n",
       "      <td>NaN</td>\n",
       "      <td>1</td>\n",
       "      <td>0</td>\n",
       "      <td>2014-02-03</td>\n",
       "      <td>17</td>\n",
       "      <td>25</td>\n",
       "      <td>...</td>\n",
       "      <td>7</td>\n",
       "      <td>0</td>\n",
       "      <td>0</td>\n",
       "      <td>0</td>\n",
       "      <td>0</td>\n",
       "      <td>0</td>\n",
       "      <td>0</td>\n",
       "      <td>3</td>\n",
       "      <td>11</td>\n",
       "      <td>0</td>\n",
       "    </tr>\n",
       "    <tr>\n",
       "      <th>2059</th>\n",
       "      <td>7187</td>\n",
       "      <td>1969</td>\n",
       "      <td>Master</td>\n",
       "      <td>Together</td>\n",
       "      <td>NaN</td>\n",
       "      <td>1</td>\n",
       "      <td>1</td>\n",
       "      <td>2013-05-18</td>\n",
       "      <td>52</td>\n",
       "      <td>375</td>\n",
       "      <td>...</td>\n",
       "      <td>3</td>\n",
       "      <td>0</td>\n",
       "      <td>0</td>\n",
       "      <td>0</td>\n",
       "      <td>0</td>\n",
       "      <td>0</td>\n",
       "      <td>0</td>\n",
       "      <td>3</td>\n",
       "      <td>11</td>\n",
       "      <td>0</td>\n",
       "    </tr>\n",
       "    <tr>\n",
       "      <th>2061</th>\n",
       "      <td>1612</td>\n",
       "      <td>1981</td>\n",
       "      <td>PhD</td>\n",
       "      <td>Single</td>\n",
       "      <td>NaN</td>\n",
       "      <td>1</td>\n",
       "      <td>0</td>\n",
       "      <td>2013-05-31</td>\n",
       "      <td>82</td>\n",
       "      <td>23</td>\n",
       "      <td>...</td>\n",
       "      <td>6</td>\n",
       "      <td>0</td>\n",
       "      <td>0</td>\n",
       "      <td>0</td>\n",
       "      <td>0</td>\n",
       "      <td>0</td>\n",
       "      <td>0</td>\n",
       "      <td>3</td>\n",
       "      <td>11</td>\n",
       "      <td>0</td>\n",
       "    </tr>\n",
       "    <tr>\n",
       "      <th>2078</th>\n",
       "      <td>5079</td>\n",
       "      <td>1971</td>\n",
       "      <td>Graduation</td>\n",
       "      <td>Married</td>\n",
       "      <td>NaN</td>\n",
       "      <td>1</td>\n",
       "      <td>1</td>\n",
       "      <td>2013-03-03</td>\n",
       "      <td>82</td>\n",
       "      <td>71</td>\n",
       "      <td>...</td>\n",
       "      <td>8</td>\n",
       "      <td>0</td>\n",
       "      <td>0</td>\n",
       "      <td>0</td>\n",
       "      <td>0</td>\n",
       "      <td>0</td>\n",
       "      <td>0</td>\n",
       "      <td>3</td>\n",
       "      <td>11</td>\n",
       "      <td>0</td>\n",
       "    </tr>\n",
       "    <tr>\n",
       "      <th>2079</th>\n",
       "      <td>10339</td>\n",
       "      <td>1954</td>\n",
       "      <td>Master</td>\n",
       "      <td>Together</td>\n",
       "      <td>NaN</td>\n",
       "      <td>0</td>\n",
       "      <td>1</td>\n",
       "      <td>2013-06-23</td>\n",
       "      <td>83</td>\n",
       "      <td>161</td>\n",
       "      <td>...</td>\n",
       "      <td>6</td>\n",
       "      <td>0</td>\n",
       "      <td>0</td>\n",
       "      <td>0</td>\n",
       "      <td>0</td>\n",
       "      <td>0</td>\n",
       "      <td>0</td>\n",
       "      <td>3</td>\n",
       "      <td>11</td>\n",
       "      <td>0</td>\n",
       "    </tr>\n",
       "    <tr>\n",
       "      <th>2081</th>\n",
       "      <td>3117</td>\n",
       "      <td>1955</td>\n",
       "      <td>Graduation</td>\n",
       "      <td>Single</td>\n",
       "      <td>NaN</td>\n",
       "      <td>0</td>\n",
       "      <td>1</td>\n",
       "      <td>2013-10-18</td>\n",
       "      <td>95</td>\n",
       "      <td>264</td>\n",
       "      <td>...</td>\n",
       "      <td>7</td>\n",
       "      <td>0</td>\n",
       "      <td>0</td>\n",
       "      <td>0</td>\n",
       "      <td>0</td>\n",
       "      <td>0</td>\n",
       "      <td>0</td>\n",
       "      <td>3</td>\n",
       "      <td>11</td>\n",
       "      <td>0</td>\n",
       "    </tr>\n",
       "    <tr>\n",
       "      <th>2084</th>\n",
       "      <td>5250</td>\n",
       "      <td>1943</td>\n",
       "      <td>Master</td>\n",
       "      <td>Widow</td>\n",
       "      <td>NaN</td>\n",
       "      <td>0</td>\n",
       "      <td>0</td>\n",
       "      <td>2013-10-30</td>\n",
       "      <td>75</td>\n",
       "      <td>532</td>\n",
       "      <td>...</td>\n",
       "      <td>1</td>\n",
       "      <td>0</td>\n",
       "      <td>0</td>\n",
       "      <td>1</td>\n",
       "      <td>0</td>\n",
       "      <td>0</td>\n",
       "      <td>0</td>\n",
       "      <td>3</td>\n",
       "      <td>11</td>\n",
       "      <td>1</td>\n",
       "    </tr>\n",
       "    <tr>\n",
       "      <th>2228</th>\n",
       "      <td>8720</td>\n",
       "      <td>1978</td>\n",
       "      <td>2n Cycle</td>\n",
       "      <td>Together</td>\n",
       "      <td>NaN</td>\n",
       "      <td>0</td>\n",
       "      <td>0</td>\n",
       "      <td>2012-12-08</td>\n",
       "      <td>53</td>\n",
       "      <td>32</td>\n",
       "      <td>...</td>\n",
       "      <td>0</td>\n",
       "      <td>0</td>\n",
       "      <td>1</td>\n",
       "      <td>0</td>\n",
       "      <td>0</td>\n",
       "      <td>0</td>\n",
       "      <td>0</td>\n",
       "      <td>3</td>\n",
       "      <td>11</td>\n",
       "      <td>0</td>\n",
       "    </tr>\n",
       "  </tbody>\n",
       "</table>\n",
       "<p>24 rows × 29 columns</p>\n",
       "</div>"
      ],
      "text/plain": [
       "         ID  Year_Birth   Education Marital_Status  Income  Kidhome  Teenhome  \\\n",
       "10     1994        1983  Graduation        Married     NaN        1         0   \n",
       "27     5255        1986  Graduation         Single     NaN        1         0   \n",
       "43     7281        1959         PhD         Single     NaN        0         0   \n",
       "48     7244        1951  Graduation         Single     NaN        2         1   \n",
       "58     8557        1982  Graduation         Single     NaN        1         0   \n",
       "71    10629        1973    2n Cycle        Married     NaN        1         0   \n",
       "90     8996        1957         PhD        Married     NaN        2         1   \n",
       "91     9235        1957  Graduation         Single     NaN        1         1   \n",
       "92     5798        1973      Master       Together     NaN        0         0   \n",
       "128    8268        1961         PhD        Married     NaN        0         1   \n",
       "133    1295        1963  Graduation        Married     NaN        0         1   \n",
       "312    2437        1989  Graduation        Married     NaN        0         0   \n",
       "319    2863        1970  Graduation         Single     NaN        1         2   \n",
       "1379  10475        1970      Master       Together     NaN        0         1   \n",
       "1382   2902        1958  Graduation       Together     NaN        1         1   \n",
       "1383   4345        1964    2n Cycle         Single     NaN        1         1   \n",
       "1386   3769        1972         PhD       Together     NaN        1         0   \n",
       "2059   7187        1969      Master       Together     NaN        1         1   \n",
       "2061   1612        1981         PhD         Single     NaN        1         0   \n",
       "2078   5079        1971  Graduation        Married     NaN        1         1   \n",
       "2079  10339        1954      Master       Together     NaN        0         1   \n",
       "2081   3117        1955  Graduation         Single     NaN        0         1   \n",
       "2084   5250        1943      Master          Widow     NaN        0         0   \n",
       "2228   8720        1978    2n Cycle       Together     NaN        0         0   \n",
       "\n",
       "     Dt_Customer  Recency  MntWines  ...  NumWebVisitsMonth  AcceptedCmp3  \\\n",
       "10    2013-11-15       11         5  ...                  7             0   \n",
       "27    2013-02-20       19         5  ...                  1             0   \n",
       "43    2013-05-11       80        81  ...                  2             0   \n",
       "48    2014-01-01       96        48  ...                  6             0   \n",
       "58    2013-06-17       57        11  ...                  6             0   \n",
       "71    2012-09-14       25        25  ...                  8             0   \n",
       "90    2012-11-19        4       230  ...                  9             0   \n",
       "91    2014-05-27       45         7  ...                  7             0   \n",
       "92    2013-11-23       87       445  ...                  1             0   \n",
       "128   2013-11-07       23       352  ...                  6             0   \n",
       "133   2013-11-08       96       231  ...                  4             0   \n",
       "312   2013-03-06       69       861  ...                  3             0   \n",
       "319   2013-08-23       67       738  ...                  7             0   \n",
       "1379  2013-01-04       39       187  ...                  5             0   \n",
       "1382  2012-03-09       87        19  ...                  5             0   \n",
       "1383  2014-12-01       49         5  ...                  7             0   \n",
       "1386  2014-02-03       17        25  ...                  7             0   \n",
       "2059  2013-05-18       52       375  ...                  3             0   \n",
       "2061  2013-05-31       82        23  ...                  6             0   \n",
       "2078  2013-03-03       82        71  ...                  8             0   \n",
       "2079  2013-06-23       83       161  ...                  6             0   \n",
       "2081  2013-10-18       95       264  ...                  7             0   \n",
       "2084  2013-10-30       75       532  ...                  1             0   \n",
       "2228  2012-12-08       53        32  ...                  0             0   \n",
       "\n",
       "      AcceptedCmp4  AcceptedCmp5  AcceptedCmp1  AcceptedCmp2  Complain  \\\n",
       "10               0             0             0             0         0   \n",
       "27               0             0             0             0         0   \n",
       "43               0             0             0             0         0   \n",
       "48               0             0             0             0         0   \n",
       "58               0             0             0             0         0   \n",
       "71               0             0             0             0         0   \n",
       "90               0             0             0             0         0   \n",
       "91               0             0             0             0         0   \n",
       "92               0             0             0             0         0   \n",
       "128              0             0             0             0         0   \n",
       "133              0             0             0             0         0   \n",
       "312              1             0             1             0         0   \n",
       "319              1             0             1             0         0   \n",
       "1379             0             0             0             0         0   \n",
       "1382             0             0             0             0         0   \n",
       "1383             0             0             0             0         0   \n",
       "1386             0             0             0             0         0   \n",
       "2059             0             0             0             0         0   \n",
       "2061             0             0             0             0         0   \n",
       "2078             0             0             0             0         0   \n",
       "2079             0             0             0             0         0   \n",
       "2081             0             0             0             0         0   \n",
       "2084             0             1             0             0         0   \n",
       "2228             1             0             0             0         0   \n",
       "\n",
       "      Z_CostContact  Z_Revenue  Response  \n",
       "10                3         11         0  \n",
       "27                3         11         0  \n",
       "43                3         11         0  \n",
       "48                3         11         0  \n",
       "58                3         11         0  \n",
       "71                3         11         0  \n",
       "90                3         11         0  \n",
       "91                3         11         0  \n",
       "92                3         11         0  \n",
       "128               3         11         0  \n",
       "133               3         11         0  \n",
       "312               3         11         0  \n",
       "319               3         11         0  \n",
       "1379              3         11         0  \n",
       "1382              3         11         0  \n",
       "1383              3         11         0  \n",
       "1386              3         11         0  \n",
       "2059              3         11         0  \n",
       "2061              3         11         0  \n",
       "2078              3         11         0  \n",
       "2079              3         11         0  \n",
       "2081              3         11         0  \n",
       "2084              3         11         1  \n",
       "2228              3         11         0  \n",
       "\n",
       "[24 rows x 29 columns]"
      ]
     },
     "execution_count": 9,
     "metadata": {},
     "output_type": "execute_result"
    }
   ],
   "source": [
    "df[df['Income'].isnull()]"
   ]
  },
  {
   "cell_type": "code",
   "execution_count": 10,
   "id": "f50d875e",
   "metadata": {},
   "outputs": [
    {
     "name": "stderr",
     "output_type": "stream",
     "text": [
      "C:\\Users\\ATINA\\AppData\\Local\\Temp\\ipykernel_12868\\1426022472.py:1: UserWarning: \n",
      "\n",
      "`distplot` is a deprecated function and will be removed in seaborn v0.14.0.\n",
      "\n",
      "Please adapt your code to use either `displot` (a figure-level function with\n",
      "similar flexibility) or `histplot` (an axes-level function for histograms).\n",
      "\n",
      "For a guide to updating your code to use the new functions, please see\n",
      "https://gist.github.com/mwaskom/de44147ed2974457ad6372750bbe5751\n",
      "\n",
      "  sns.distplot(df['Income'])\n"
     ]
    },
    {
     "data": {
      "text/plain": [
       "<Axes: xlabel='Income', ylabel='Density'>"
      ]
     },
     "execution_count": 10,
     "metadata": {},
     "output_type": "execute_result"
    },
    {
     "data": {
      "image/png": "[encoded data removed]",
      "text/plain": [
       "<Figure size 640x480 with 1 Axes>"
      ]
     },
     "metadata": {},
     "output_type": "display_data"
    }
   ],
   "source": [
    "sns.distplot(df['Income'])"
   ]
  },
  {
   "cell_type": "code",
   "execution_count": 11,
   "id": "fa10f7aa",
   "metadata": {},
   "outputs": [],
   "source": [
    "import statsmodels.api as sm\n",
    "import pylab"
   ]
  },
  {
   "cell_type": "code",
   "execution_count": 12,
   "id": "147fc0f1",
   "metadata": {},
   "outputs": [
    {
     "data": {
      "image/png": "[encoded data removed]",
      "text/plain": [
       "<Figure size 640x480 with 1 Axes>"
      ]
     },
     "metadata": {},
     "output_type": "display_data"
    }
   ],
   "source": [
    "sm.qqplot(df['Income'], line='45')\n",
    "pylab.show()"
   ]
  },
  {
   "cell_type": "markdown",
   "id": "fc2928ed",
   "metadata": {},
   "source": [
    "as it can be seen from the plots above, the data is not normally distributed, thus the median will be used to fill in the empty value"
   ]
  },
  {
   "cell_type": "code",
   "execution_count": 13,
   "id": "49b6b456",
   "metadata": {},
   "outputs": [
    {
     "data": {
      "text/plain": [
       "51381.5"
      ]
     },
     "execution_count": 13,
     "metadata": {},
     "output_type": "execute_result"
    }
   ],
   "source": [
    "median = df['Income'].median()\n",
    "median"
   ]
  },
  {
   "cell_type": "code",
   "execution_count": 14,
   "id": "2744741a",
   "metadata": {
    "scrolled": true
   },
   "outputs": [],
   "source": [
    "df['Income'].fillna(df['Income'].median(), inplace=True)"
   ]
  },
  {
   "cell_type": "code",
   "execution_count": 15,
   "id": "26f05e16",
   "metadata": {
    "scrolled": true
   },
   "outputs": [
    {
     "data": {
      "text/html": [
       "<div>\n",
       "<style scoped>\n",
       "    .dataframe tbody tr th:only-of-type {\n",
       "        vertical-align: middle;\n",
       "    }\n",
       "\n",
       "    .dataframe tbody tr th {\n",
       "        vertical-align: top;\n",
       "    }\n",
       "\n",
       "    .dataframe thead th {\n",
       "        text-align: right;\n",
       "    }\n",
       "</style>\n",
       "<table border=\"1\" class=\"dataframe\">\n",
       "  <thead>\n",
       "    <tr style=\"text-align: right;\">\n",
       "      <th></th>\n",
       "      <th>ID</th>\n",
       "      <th>Year_Birth</th>\n",
       "      <th>Education</th>\n",
       "      <th>Marital_Status</th>\n",
       "      <th>Income</th>\n",
       "      <th>Kidhome</th>\n",
       "      <th>Teenhome</th>\n",
       "      <th>Dt_Customer</th>\n",
       "      <th>Recency</th>\n",
       "      <th>MntWines</th>\n",
       "      <th>...</th>\n",
       "      <th>NumWebVisitsMonth</th>\n",
       "      <th>AcceptedCmp3</th>\n",
       "      <th>AcceptedCmp4</th>\n",
       "      <th>AcceptedCmp5</th>\n",
       "      <th>AcceptedCmp1</th>\n",
       "      <th>AcceptedCmp2</th>\n",
       "      <th>Complain</th>\n",
       "      <th>Z_CostContact</th>\n",
       "      <th>Z_Revenue</th>\n",
       "      <th>Response</th>\n",
       "    </tr>\n",
       "  </thead>\n",
       "  <tbody>\n",
       "  </tbody>\n",
       "</table>\n",
       "<p>0 rows × 29 columns</p>\n",
       "</div>"
      ],
      "text/plain": [
       "Empty DataFrame\n",
       "Columns: [ID, Year_Birth, Education, Marital_Status, Income, Kidhome, Teenhome, Dt_Customer, Recency, MntWines, MntFruits, MntMeatProducts, MntFishProducts, MntSweetProducts, MntGoldProds, NumDealsPurchases, NumWebPurchases, NumCatalogPurchases, NumStorePurchases, NumWebVisitsMonth, AcceptedCmp3, AcceptedCmp4, AcceptedCmp5, AcceptedCmp1, AcceptedCmp2, Complain, Z_CostContact, Z_Revenue, Response]\n",
       "Index: []\n",
       "\n",
       "[0 rows x 29 columns]"
      ]
     },
     "execution_count": 15,
     "metadata": {},
     "output_type": "execute_result"
    }
   ],
   "source": [
    "df[df['Income'].isnull()]"
   ]
  },
  {
   "cell_type": "markdown",
   "id": "d9b09f0f",
   "metadata": {},
   "source": [
    "### Check Duplicates"
   ]
  },
  {
   "cell_type": "code",
   "execution_count": 16,
   "id": "5146302a",
   "metadata": {},
   "outputs": [
    {
     "data": {
      "text/html": [
       "<div>\n",
       "<style scoped>\n",
       "    .dataframe tbody tr th:only-of-type {\n",
       "        vertical-align: middle;\n",
       "    }\n",
       "\n",
       "    .dataframe tbody tr th {\n",
       "        vertical-align: top;\n",
       "    }\n",
       "\n",
       "    .dataframe thead th {\n",
       "        text-align: right;\n",
       "    }\n",
       "</style>\n",
       "<table border=\"1\" class=\"dataframe\">\n",
       "  <thead>\n",
       "    <tr style=\"text-align: right;\">\n",
       "      <th></th>\n",
       "      <th>ID</th>\n",
       "      <th>Year_Birth</th>\n",
       "      <th>Education</th>\n",
       "      <th>Marital_Status</th>\n",
       "      <th>Income</th>\n",
       "      <th>Kidhome</th>\n",
       "      <th>Teenhome</th>\n",
       "      <th>Dt_Customer</th>\n",
       "      <th>Recency</th>\n",
       "      <th>MntWines</th>\n",
       "      <th>...</th>\n",
       "      <th>NumWebVisitsMonth</th>\n",
       "      <th>AcceptedCmp3</th>\n",
       "      <th>AcceptedCmp4</th>\n",
       "      <th>AcceptedCmp5</th>\n",
       "      <th>AcceptedCmp1</th>\n",
       "      <th>AcceptedCmp2</th>\n",
       "      <th>Complain</th>\n",
       "      <th>Z_CostContact</th>\n",
       "      <th>Z_Revenue</th>\n",
       "      <th>Response</th>\n",
       "    </tr>\n",
       "  </thead>\n",
       "  <tbody>\n",
       "  </tbody>\n",
       "</table>\n",
       "<p>0 rows × 29 columns</p>\n",
       "</div>"
      ],
      "text/plain": [
       "Empty DataFrame\n",
       "Columns: [ID, Year_Birth, Education, Marital_Status, Income, Kidhome, Teenhome, Dt_Customer, Recency, MntWines, MntFruits, MntMeatProducts, MntFishProducts, MntSweetProducts, MntGoldProds, NumDealsPurchases, NumWebPurchases, NumCatalogPurchases, NumStorePurchases, NumWebVisitsMonth, AcceptedCmp3, AcceptedCmp4, AcceptedCmp5, AcceptedCmp1, AcceptedCmp2, Complain, Z_CostContact, Z_Revenue, Response]\n",
       "Index: []\n",
       "\n",
       "[0 rows x 29 columns]"
      ]
     },
     "execution_count": 16,
     "metadata": {},
     "output_type": "execute_result"
    }
   ],
   "source": [
    "duplicates = df[df.duplicated(subset=['ID'])]\n",
    "duplicates"
   ]
  },
  {
   "cell_type": "code",
   "execution_count": 17,
   "id": "d449135b",
   "metadata": {},
   "outputs": [
    {
     "data": {
      "text/plain": [
       "0"
      ]
     },
     "execution_count": 17,
     "metadata": {},
     "output_type": "execute_result"
    }
   ],
   "source": [
    "num_duplicates = df.duplicated().sum()\n",
    "num_duplicates"
   ]
  },
  {
   "cell_type": "markdown",
   "id": "8d08ea09",
   "metadata": {},
   "source": [
    "There is no duplicates in the dataset"
   ]
  },
  {
   "cell_type": "markdown",
   "id": "164d93cc",
   "metadata": {},
   "source": [
    "### Check Values and Outliers"
   ]
  },
  {
   "cell_type": "code",
   "execution_count": 18,
   "id": "3b92599e",
   "metadata": {},
   "outputs": [
    {
     "data": {
      "text/plain": [
       "Graduation    1127\n",
       "PhD            486\n",
       "Master         370\n",
       "2n Cycle       203\n",
       "Basic           54\n",
       "Name: Education, dtype: int64"
      ]
     },
     "execution_count": 18,
     "metadata": {},
     "output_type": "execute_result"
    }
   ],
   "source": [
    "df['Education'].value_counts()"
   ]
  },
  {
   "cell_type": "markdown",
   "id": "3ef38413",
   "metadata": {},
   "source": [
    "- 'Basic' will be changed to 'Secondary'\n",
    "- 'Graduation' will be changed to 'Bachelor'. This means to avoid confusion as in fact 'Graduation' refers to a completion of formal education, but does not refer to educational level\n",
    "- '2n Cycle' means Master, therefore it will be changed to 'Master'\n"
   ]
  },
  {
   "cell_type": "code",
   "execution_count": 19,
   "id": "3c0bd24d",
   "metadata": {},
   "outputs": [
    {
     "data": {
      "text/plain": [
       "Bachelor     1127\n",
       "Master        573\n",
       "PhD           486\n",
       "Secondary      54\n",
       "Name: Education, dtype: int64"
      ]
     },
     "execution_count": 19,
     "metadata": {},
     "output_type": "execute_result"
    }
   ],
   "source": [
    "df.loc[df['Education'] == 'Basic', 'Education'] = 'Secondary'\n",
    "df.loc[df['Education'] == 'Graduation', 'Education'] = 'Bachelor'\n",
    "df.loc[df['Education'] == '2n Cycle', 'Education'] = 'Master'\n",
    "df['Education'].value_counts()"
   ]
  },
  {
   "cell_type": "code",
   "execution_count": 20,
   "id": "b0de12d0",
   "metadata": {},
   "outputs": [
    {
     "data": {
      "text/plain": [
       "Married     864\n",
       "Together    580\n",
       "Single      480\n",
       "Divorced    232\n",
       "Widow        77\n",
       "Alone         3\n",
       "Absurd        2\n",
       "YOLO          2\n",
       "Name: Marital_Status, dtype: int64"
      ]
     },
     "execution_count": 20,
     "metadata": {},
     "output_type": "execute_result"
    }
   ],
   "source": [
    "df['Marital_Status'].value_counts()"
   ]
  },
  {
   "cell_type": "markdown",
   "id": "0e1afa84",
   "metadata": {},
   "source": [
    "Here, the terms are excessive as there are several terms refer to one thing. The purpose of this column is to relate the the customers' marital status with the customers' behaviour. Thus, too specific terminology is not necessary. Beside that, the proportion of such 'uncommon' terms is not significant and cannot produce interesting insight. These terms will be simplified and re-defined as follows:\n",
    "- 'Alone', 'Absurd', and 'YOLO' will be classified as 'Single'. 'Absurd' is refer to an uncertain relationship status and in this case this can be formally classified as 'Single'. 'YOLO', stands for You Only Live Once, refers to a condition where someone does not want to have a commitment and will fully enjoy life as someone 'free', thus this can be formally classified as 'Single'"
   ]
  },
  {
   "cell_type": "code",
   "execution_count": 21,
   "id": "c9a241e3",
   "metadata": {},
   "outputs": [
    {
     "data": {
      "text/plain": [
       "Married     864\n",
       "Together    580\n",
       "Single      487\n",
       "Divorced    232\n",
       "Widow        77\n",
       "Name: Marital_Status, dtype: int64"
      ]
     },
     "execution_count": 21,
     "metadata": {},
     "output_type": "execute_result"
    }
   ],
   "source": [
    "df.loc[df['Marital_Status'].isin(['YOLO', 'Absurd','Alone']), 'Marital_Status'] = 'Single'\n",
    "df['Marital_Status'].value_counts()"
   ]
  },
  {
   "cell_type": "code",
   "execution_count": 22,
   "id": "27ddd76b",
   "metadata": {},
   "outputs": [
    {
     "data": {
      "text/plain": [
       "1893     1\n",
       "1899     1\n",
       "1900     1\n",
       "1940     1\n",
       "1941     1\n",
       "1943     7\n",
       "1944     7\n",
       "1945     8\n",
       "1946    16\n",
       "1947    16\n",
       "1948    21\n",
       "1949    30\n",
       "1950    29\n",
       "1951    43\n",
       "1952    52\n",
       "1953    35\n",
       "1954    50\n",
       "1955    49\n",
       "1956    55\n",
       "1957    43\n",
       "1958    53\n",
       "1959    51\n",
       "1960    49\n",
       "1961    36\n",
       "1962    44\n",
       "1963    45\n",
       "1964    42\n",
       "1965    74\n",
       "1966    50\n",
       "1967    44\n",
       "1968    51\n",
       "1969    71\n",
       "1970    77\n",
       "1971    87\n",
       "1972    79\n",
       "1973    74\n",
       "1974    69\n",
       "1975    83\n",
       "1976    89\n",
       "1977    52\n",
       "1978    77\n",
       "1979    53\n",
       "1980    39\n",
       "1981    39\n",
       "1982    45\n",
       "1983    42\n",
       "1984    38\n",
       "1985    32\n",
       "1986    42\n",
       "1987    27\n",
       "1988    29\n",
       "1989    30\n",
       "1990    18\n",
       "1991    15\n",
       "1992    13\n",
       "1993     5\n",
       "1994     3\n",
       "1995     5\n",
       "1996     2\n",
       "Name: Year_Birth, dtype: int64"
      ]
     },
     "execution_count": 22,
     "metadata": {},
     "output_type": "execute_result"
    }
   ],
   "source": [
    "age = df['Year_Birth'].value_counts().sort_index()\n",
    "age"
   ]
  },
  {
   "cell_type": "markdown",
   "id": "5a97c2a7",
   "metadata": {},
   "source": [
    "Deleting data earlier than 1940"
   ]
  },
  {
   "cell_type": "code",
   "execution_count": 23,
   "id": "0b4b889a",
   "metadata": {},
   "outputs": [],
   "source": [
    "df.drop(df[df['Year_Birth'] <1940].index, inplace=True)\n",
    "df.reset_index(drop=True, inplace=True)"
   ]
  },
  {
   "cell_type": "code",
   "execution_count": 24,
   "id": "88561697",
   "metadata": {},
   "outputs": [
    {
     "data": {
      "text/html": [
       "<div>\n",
       "<style scoped>\n",
       "    .dataframe tbody tr th:only-of-type {\n",
       "        vertical-align: middle;\n",
       "    }\n",
       "\n",
       "    .dataframe tbody tr th {\n",
       "        vertical-align: top;\n",
       "    }\n",
       "\n",
       "    .dataframe thead th {\n",
       "        text-align: right;\n",
       "    }\n",
       "</style>\n",
       "<table border=\"1\" class=\"dataframe\">\n",
       "  <thead>\n",
       "    <tr style=\"text-align: right;\">\n",
       "      <th></th>\n",
       "      <th>ID</th>\n",
       "      <th>Year_Birth</th>\n",
       "      <th>Education</th>\n",
       "      <th>Marital_Status</th>\n",
       "      <th>Income</th>\n",
       "      <th>Kidhome</th>\n",
       "      <th>Teenhome</th>\n",
       "      <th>Dt_Customer</th>\n",
       "      <th>Recency</th>\n",
       "      <th>MntWines</th>\n",
       "      <th>...</th>\n",
       "      <th>NumWebVisitsMonth</th>\n",
       "      <th>AcceptedCmp3</th>\n",
       "      <th>AcceptedCmp4</th>\n",
       "      <th>AcceptedCmp5</th>\n",
       "      <th>AcceptedCmp1</th>\n",
       "      <th>AcceptedCmp2</th>\n",
       "      <th>Complain</th>\n",
       "      <th>Z_CostContact</th>\n",
       "      <th>Z_Revenue</th>\n",
       "      <th>Response</th>\n",
       "    </tr>\n",
       "  </thead>\n",
       "  <tbody>\n",
       "    <tr>\n",
       "      <th>2230</th>\n",
       "      <td>9432</td>\n",
       "      <td>1977</td>\n",
       "      <td>Bachelor</td>\n",
       "      <td>Together</td>\n",
       "      <td>666666.0</td>\n",
       "      <td>1</td>\n",
       "      <td>0</td>\n",
       "      <td>2013-02-06</td>\n",
       "      <td>23</td>\n",
       "      <td>9</td>\n",
       "      <td>...</td>\n",
       "      <td>6</td>\n",
       "      <td>0</td>\n",
       "      <td>0</td>\n",
       "      <td>0</td>\n",
       "      <td>0</td>\n",
       "      <td>0</td>\n",
       "      <td>0</td>\n",
       "      <td>3</td>\n",
       "      <td>11</td>\n",
       "      <td>0</td>\n",
       "    </tr>\n",
       "  </tbody>\n",
       "</table>\n",
       "<p>1 rows × 29 columns</p>\n",
       "</div>"
      ],
      "text/plain": [
       "        ID  Year_Birth Education Marital_Status    Income  Kidhome  Teenhome  \\\n",
       "2230  9432        1977  Bachelor       Together  666666.0        1         0   \n",
       "\n",
       "     Dt_Customer  Recency  MntWines  ...  NumWebVisitsMonth  AcceptedCmp3  \\\n",
       "2230  2013-02-06       23         9  ...                  6             0   \n",
       "\n",
       "      AcceptedCmp4  AcceptedCmp5  AcceptedCmp1  AcceptedCmp2  Complain  \\\n",
       "2230             0             0             0             0         0   \n",
       "\n",
       "      Z_CostContact  Z_Revenue  Response  \n",
       "2230              3         11         0  \n",
       "\n",
       "[1 rows x 29 columns]"
      ]
     },
     "execution_count": 24,
     "metadata": {},
     "output_type": "execute_result"
    }
   ],
   "source": [
    "#outlier in Income\n",
    "\n",
    "#Change outlier to median as we can see the max is outlier\n",
    "\n",
    "df.loc[df['Income'] == df['Income'].max()] "
   ]
  },
  {
   "cell_type": "code",
   "execution_count": 25,
   "id": "70581ca2",
   "metadata": {},
   "outputs": [],
   "source": [
    "#the value is replaced with median\n",
    "\n",
    "df.loc[df['Income'] == df['Income'].max(), 'Income'] = df['Income'].median()"
   ]
  },
  {
   "cell_type": "markdown",
   "id": "ab4c44e5",
   "metadata": {},
   "source": [
    "### Adding new columns titled generation"
   ]
  },
  {
   "cell_type": "markdown",
   "id": "6cf9c823",
   "metadata": {},
   "source": [
    "The grouping is referred to this https://www.pewresearch.org/short-reads/2019/01/17/where-millennials-end-and-generation-z-begins/"
   ]
  },
  {
   "cell_type": "code",
   "execution_count": 26,
   "id": "79f6def5",
   "metadata": {},
   "outputs": [],
   "source": [
    "def generation(year_birth):\n",
    "    if 1940 <= year_birth <= 1945:\n",
    "        return 'Silent'\n",
    "    elif 1946 <= year_birth <= 1964:\n",
    "        return 'Boomers'\n",
    "    elif 1965 <= year_birth <= 1980:\n",
    "        return 'Gen X'\n",
    "    else:\n",
    "        return 'Millennials'"
   ]
  },
  {
   "cell_type": "code",
   "execution_count": 27,
   "id": "9a90d628",
   "metadata": {},
   "outputs": [],
   "source": [
    "df['Generation'] = df['Year_Birth'].apply(generation)"
   ]
  },
  {
   "cell_type": "markdown",
   "id": "1c26f1ed",
   "metadata": {},
   "source": [
    "#### Check normality of each products"
   ]
  },
  {
   "cell_type": "markdown",
   "id": "9ed7d089",
   "metadata": {},
   "source": [
    "There are different ways to check normality, first is using graphical method and second is using statistic formula. Graphical method was used above for checking the normality of income data. To have more straighforward result and to implement another method, here and forward, the statistic formula is going to be used. \n",
    "\n",
    "Knowing the distribution of the data is crucial as it will detrmine the method for statistical test (parametric for normal and non-parametric for not normal)"
   ]
  },
  {
   "cell_type": "code",
   "execution_count": 28,
   "id": "8a150c40",
   "metadata": {},
   "outputs": [
    {
     "name": "stdout",
     "output_type": "stream",
     "text": [
      "The result for MntWines:\n",
      "Not Normal\n",
      "\n",
      "\n",
      "The result for MntFruits:\n",
      "Not Normal\n",
      "\n",
      "\n",
      "The result for MntMeatProducts:\n",
      "Not Normal\n",
      "\n",
      "\n",
      "The result for MntFishProducts:\n",
      "Not Normal\n",
      "\n",
      "\n",
      "The result for MntSweetProducts:\n",
      "Not Normal\n",
      "\n",
      "\n",
      "The result for MntGoldProds:\n",
      "Not Normal\n",
      "\n",
      "\n"
     ]
    }
   ],
   "source": [
    "from scipy.stats import normaltest\n",
    "\n",
    "list = ['MntWines', 'MntFruits', 'MntMeatProducts', 'MntFishProducts', 'MntSweetProducts', 'MntGoldProds']\n",
    "\n",
    "for i in list:\n",
    "    stats, pval=normaltest(df[i])\n",
    "    \n",
    "    print(f'The result for {i}:')\n",
    "    if pval<=0.05:\n",
    "        print('Not Normal') \n",
    "        print('\\n')\n",
    "    else: \n",
    "        print('Normal') "
   ]
  },
  {
   "cell_type": "markdown",
   "id": "12e3fbb8",
   "metadata": {},
   "source": [
    "#### Check normality for each purchase place and number of deals "
   ]
  },
  {
   "cell_type": "code",
   "execution_count": 29,
   "id": "ab86359d",
   "metadata": {},
   "outputs": [
    {
     "name": "stdout",
     "output_type": "stream",
     "text": [
      "The result for NumWebPurchases:\n",
      "Not Normal\n",
      "\n",
      "\n",
      "The result for NumCatalogPurchases:\n",
      "Not Normal\n",
      "\n",
      "\n",
      "The result for NumStorePurchases:\n",
      "Not Normal\n",
      "\n",
      "\n",
      "The result for NumWebVisitsMonth:\n",
      "Not Normal\n",
      "\n",
      "\n",
      "The result for NumDealsPurchases:\n",
      "Not Normal\n",
      "\n",
      "\n"
     ]
    }
   ],
   "source": [
    "list = ['NumWebPurchases', 'NumCatalogPurchases', 'NumStorePurchases', 'NumWebVisitsMonth', 'NumDealsPurchases']\n",
    "\n",
    "for i in list:\n",
    "    stats, pval=normaltest(df[i])\n",
    "    \n",
    "    print(f'The result for {i}:')\n",
    "    if pval<=0.05:\n",
    "        print('Not Normal') \n",
    "        print('\\n')\n",
    "    else: \n",
    "        print('Normal') "
   ]
  },
  {
   "cell_type": "markdown",
   "id": "9b96538d",
   "metadata": {},
   "source": [
    "## Get Insights"
   ]
  },
  {
   "cell_type": "markdown",
   "id": "a4c9d7ec",
   "metadata": {},
   "source": [
    "There are two main steps in pulling an insight from a dataset, data visualization and statistical testing. It is a common debate wether to perform statistical analysis or visualizing the data first. However, in this analysis, data visualization will be performed initlally, followed by statistical analysis. \n",
    "\n",
    "Data visualization will help to first visually explore and understand the data, identifying patterns trends and anomalies which may not be apparent from statistical test alone. This process will also help the process of hypotesis generation.\n",
    "\n",
    "Statistical testing is substantial to validate the hypotesis made from visual observation.\n",
    "\n"
   ]
  },
  {
   "cell_type": "markdown",
   "id": "6ed513e0",
   "metadata": {},
   "source": [
    "### 1. Spending Patterns by Generations\n",
    "\n",
    "In this analysis, customer is differentiated by generation to see spending habits on certain producs accross generation."
   ]
  },
  {
   "cell_type": "code",
   "execution_count": 30,
   "id": "48824508",
   "metadata": {},
   "outputs": [],
   "source": [
    "generation_spending = df.groupby('Generation')[['MntWines', 'MntFruits', 'MntMeatProducts', \n",
    "                                                'MntFishProducts', 'MntSweetProducts', \n",
    "                                                'MntGoldProds']].median()"
   ]
  },
  {
   "cell_type": "code",
   "execution_count": 31,
   "id": "a43d8ec4",
   "metadata": {},
   "outputs": [
    {
     "data": {
      "text/html": [
       "<div>\n",
       "<style scoped>\n",
       "    .dataframe tbody tr th:only-of-type {\n",
       "        vertical-align: middle;\n",
       "    }\n",
       "\n",
       "    .dataframe tbody tr th {\n",
       "        vertical-align: top;\n",
       "    }\n",
       "\n",
       "    .dataframe thead th {\n",
       "        text-align: right;\n",
       "    }\n",
       "</style>\n",
       "<table border=\"1\" class=\"dataframe\">\n",
       "  <thead>\n",
       "    <tr style=\"text-align: right;\">\n",
       "      <th></th>\n",
       "      <th>MntWines</th>\n",
       "      <th>MntFruits</th>\n",
       "      <th>MntMeatProducts</th>\n",
       "      <th>MntFishProducts</th>\n",
       "      <th>MntSweetProducts</th>\n",
       "      <th>MntGoldProds</th>\n",
       "    </tr>\n",
       "    <tr>\n",
       "      <th>Generation</th>\n",
       "      <th></th>\n",
       "      <th></th>\n",
       "      <th></th>\n",
       "      <th></th>\n",
       "      <th></th>\n",
       "      <th></th>\n",
       "    </tr>\n",
       "  </thead>\n",
       "  <tbody>\n",
       "    <tr>\n",
       "      <th>Silent</th>\n",
       "      <td>507.5</td>\n",
       "      <td>35.5</td>\n",
       "      <td>238.5</td>\n",
       "      <td>62.0</td>\n",
       "      <td>30.5</td>\n",
       "      <td>28.0</td>\n",
       "    </tr>\n",
       "    <tr>\n",
       "      <th>Boomers</th>\n",
       "      <td>290.0</td>\n",
       "      <td>11.0</td>\n",
       "      <td>96.0</td>\n",
       "      <td>16.0</td>\n",
       "      <td>11.0</td>\n",
       "      <td>30.0</td>\n",
       "    </tr>\n",
       "    <tr>\n",
       "      <th>Gen X</th>\n",
       "      <td>135.0</td>\n",
       "      <td>6.0</td>\n",
       "      <td>52.0</td>\n",
       "      <td>10.0</td>\n",
       "      <td>7.0</td>\n",
       "      <td>21.0</td>\n",
       "    </tr>\n",
       "    <tr>\n",
       "      <th>Millennials</th>\n",
       "      <td>52.0</td>\n",
       "      <td>9.0</td>\n",
       "      <td>54.0</td>\n",
       "      <td>13.0</td>\n",
       "      <td>9.0</td>\n",
       "      <td>22.0</td>\n",
       "    </tr>\n",
       "  </tbody>\n",
       "</table>\n",
       "</div>"
      ],
      "text/plain": [
       "             MntWines  MntFruits  MntMeatProducts  MntFishProducts  \\\n",
       "Generation                                                           \n",
       "Silent          507.5       35.5            238.5             62.0   \n",
       "Boomers         290.0       11.0             96.0             16.0   \n",
       "Gen X           135.0        6.0             52.0             10.0   \n",
       "Millennials      52.0        9.0             54.0             13.0   \n",
       "\n",
       "             MntSweetProducts  MntGoldProds  \n",
       "Generation                                   \n",
       "Silent                   30.5          28.0  \n",
       "Boomers                  11.0          30.0  \n",
       "Gen X                     7.0          21.0  \n",
       "Millennials               9.0          22.0  "
      ]
     },
     "execution_count": 31,
     "metadata": {},
     "output_type": "execute_result"
    }
   ],
   "source": [
    "generation_spending.reindex(['Silent', 'Boomers', 'Gen X', 'Millennials'])"
   ]
  },
  {
   "cell_type": "code",
   "execution_count": 51,
   "id": "40292458",
   "metadata": {
    "scrolled": true
   },
   "outputs": [
    {
     "data": {
      "image/png": "[encoded data removed]",
      "text/plain": [
       "<Figure size 1200x700 with 1 Axes>"
      ]
     },
     "metadata": {},
     "output_type": "display_data"
    }
   ],
   "source": [
    "generation_spending.plot(kind='bar', figsize=(12, 7), colormap='viridis')\n",
    "plt.title('Amount of each product spent by generation in 2 years')\n",
    "plt.xlabel('Generation')\n",
    "plt.ylabel('Median Product Spent')\n",
    "plt.xticks(rotation=45)\n",
    "plt.legend(title='Product Category', loc='best')\n",
    "plt.savefig('spending for each generation')"
   ]
  },
  {
   "cell_type": "markdown",
   "id": "fa9a2f7a",
   "metadata": {},
   "source": [
    "The figure above shows there are differences in producst accross generation. To validate this result, statistical test is performed using Kruskal-Wallis test. \n",
    "\n",
    "- H0: there are no significant differences in each product spending among different generations\n",
    "- H1: there are significant differences in each product spending among different generations"
   ]
  },
  {
   "cell_type": "code",
   "execution_count": 33,
   "id": "523b2f58",
   "metadata": {
    "scrolled": true
   },
   "outputs": [
    {
     "name": "stdout",
     "output_type": "stream",
     "text": [
      "MntWines:\n",
      "Statistic: 112.2497\n",
      "pvalue: 0.0000\n",
      "Reject H0\n",
      "\n",
      "\n",
      "MntFruits:\n",
      "Statistic: 23.2817\n",
      "pvalue: 0.0000\n",
      "Reject H0\n",
      "\n",
      "\n",
      "MntMeatProducts:\n",
      "Statistic: 42.3325\n",
      "pvalue: 0.0000\n",
      "Reject H0\n",
      "\n",
      "\n",
      "MntFishProducts:\n",
      "Statistic: 27.4162\n",
      "pvalue: 0.0000\n",
      "Reject H0\n",
      "\n",
      "\n",
      "MntSweetProducts:\n",
      "Statistic: 13.8862\n",
      "pvalue: 0.0031\n",
      "Reject H0\n",
      "\n",
      "\n",
      "MntGoldProds:\n",
      "Statistic: 20.3279\n",
      "pvalue: 0.0001\n",
      "Reject H0\n",
      "\n",
      "\n"
     ]
    }
   ],
   "source": [
    "from scipy.stats import kruskal\n",
    "\n",
    "list = ['MntWines', 'MntFruits', 'MntMeatProducts','MntFishProducts', 'MntSweetProducts', 'MntGoldProds']\n",
    "\n",
    "for i in list:\n",
    "    groups = [df[i][df['Generation'] == gen] for gen in df['Generation'].unique()]\n",
    "    stat, pvalue = kruskal(*groups)\n",
    "    print(f'{i}:')\n",
    "    print(f\"Statistic: {stat:.4f}\")\n",
    "    print(f\"pvalue: {pvalue:.4f}\")\n",
    "\n",
    "    alpha = 0.05\n",
    "    if pvalue < 0.05:\n",
    "        print('Reject H0')\n",
    "        print('\\n')\n",
    "    else:\n",
    "        print('Fail to reject H0')\n",
    "        print('\\n')"
   ]
  },
  {
   "cell_type": "markdown",
   "id": "5dcace04",
   "metadata": {},
   "source": [
    "Statistical test shows there is a correlation between products and generation, as everything shows reject h0.\n",
    "\n",
    "There is a prominent trend between older generations (silent and Boomers) and younger generations (Gen X and Millennials). This trend is caused by chaning consumption patterns. Older generations spend more in all categories. This different in preferences might resulted because of different income, lifestyle or culture. However, all generations show high interest in luxury products such as wine and gold.\n",
    "\n",
    "Younger generations spend less in all categories, with millennials shows the lowest in overall spending. This might reflect financial limitations or preference in product types which is not mentioned (vegetables, bread, and dairy). \n",
    "\n",
    "Tailoring strategies based on generational preferences to market these products can be implemented. Focusing on premium offerings for older generations and budget-friendly for younger customers."
   ]
  },
  {
   "cell_type": "markdown",
   "id": "c9f1528f",
   "metadata": {},
   "source": [
    "### 2. Preferred Purchasing Channel by Generations\n",
    "\n",
    "Compare the number of purchases made through different channels (web, catalog, and store) and examine customer characteristics or demographics associated with each. This helps in optimizing resources for the most popular channels."
   ]
  },
  {
   "cell_type": "code",
   "execution_count": 34,
   "id": "79524e3a",
   "metadata": {},
   "outputs": [
    {
     "data": {
      "text/html": [
       "<div>\n",
       "<style scoped>\n",
       "    .dataframe tbody tr th:only-of-type {\n",
       "        vertical-align: middle;\n",
       "    }\n",
       "\n",
       "    .dataframe tbody tr th {\n",
       "        vertical-align: top;\n",
       "    }\n",
       "\n",
       "    .dataframe thead th {\n",
       "        text-align: right;\n",
       "    }\n",
       "</style>\n",
       "<table border=\"1\" class=\"dataframe\">\n",
       "  <thead>\n",
       "    <tr style=\"text-align: right;\">\n",
       "      <th></th>\n",
       "      <th>NumWebPurchases</th>\n",
       "      <th>NumCatalogPurchases</th>\n",
       "      <th>NumStorePurchases</th>\n",
       "    </tr>\n",
       "    <tr>\n",
       "      <th>Generation</th>\n",
       "      <th></th>\n",
       "      <th></th>\n",
       "      <th></th>\n",
       "    </tr>\n",
       "  </thead>\n",
       "  <tbody>\n",
       "    <tr>\n",
       "      <th>Silent</th>\n",
       "      <td>6.0</td>\n",
       "      <td>4.5</td>\n",
       "      <td>6.0</td>\n",
       "    </tr>\n",
       "    <tr>\n",
       "      <th>Boomers</th>\n",
       "      <td>4.0</td>\n",
       "      <td>2.0</td>\n",
       "      <td>6.0</td>\n",
       "    </tr>\n",
       "    <tr>\n",
       "      <th>Gen X</th>\n",
       "      <td>3.0</td>\n",
       "      <td>1.0</td>\n",
       "      <td>4.0</td>\n",
       "    </tr>\n",
       "    <tr>\n",
       "      <th>Millennials</th>\n",
       "      <td>3.0</td>\n",
       "      <td>1.0</td>\n",
       "      <td>4.0</td>\n",
       "    </tr>\n",
       "  </tbody>\n",
       "</table>\n",
       "</div>"
      ],
      "text/plain": [
       "             NumWebPurchases  NumCatalogPurchases  NumStorePurchases\n",
       "Generation                                                          \n",
       "Silent                   6.0                  4.5                6.0\n",
       "Boomers                  4.0                  2.0                6.0\n",
       "Gen X                    3.0                  1.0                4.0\n",
       "Millennials              3.0                  1.0                4.0"
      ]
     },
     "execution_count": 34,
     "metadata": {},
     "output_type": "execute_result"
    }
   ],
   "source": [
    "generation_place = df.groupby('Generation')[['NumWebPurchases', 'NumCatalogPurchases', 'NumStorePurchases']].median()\n",
    "\n",
    "generation_place = generation_place.reindex(['Silent', 'Boomers', 'Gen X', 'Millennials'])\n",
    "generation_place"
   ]
  },
  {
   "cell_type": "code",
   "execution_count": 53,
   "id": "c6486cf6",
   "metadata": {},
   "outputs": [
    {
     "data": {
      "image/png": "[encoded data removed]",
      "text/plain": [
       "<Figure size 1000x600 with 1 Axes>"
      ]
     },
     "metadata": {},
     "output_type": "display_data"
    }
   ],
   "source": [
    "generation_place.plot(kind='bar', figsize=(10, 6), colormap='viridis')\n",
    "plt.title('Purchased in different place by generation within 2 years')\n",
    "plt.xlabel('Generation')\n",
    "plt.ylabel('Median Purchase Place')\n",
    "plt.xticks(rotation=45)\n",
    "plt.legend(title='Purchase place')\n",
    "plt.savefig('place for each generation')"
   ]
  },
  {
   "cell_type": "markdown",
   "id": "e885db40",
   "metadata": {},
   "source": [
    "The result above shows that there are significant differences between purchase place accross generations. To validate the visualisation above, Kruskal-Wallis Test is going to be performed as the normality is not met. \n",
    "\n",
    "- H0: there are no significant differences in purschasing channel among different generations\n",
    "- H1: there are significant differences in purschasing channel among different generations"
   ]
  },
  {
   "cell_type": "code",
   "execution_count": 36,
   "id": "1c4a7a3e",
   "metadata": {},
   "outputs": [
    {
     "name": "stdout",
     "output_type": "stream",
     "text": [
      "NumWebPurchases:\n",
      "Statistic: 57.3467\n",
      "pvalue: 0.0000\n",
      "Reject H0\n",
      "\n",
      "\n",
      "NumCatalogPurchases:\n",
      "Statistic: 86.1928\n",
      "pvalue: 0.0000\n",
      "Reject H0\n",
      "\n",
      "\n",
      "NumStorePurchases:\n",
      "Statistic: 66.0511\n",
      "pvalue: 0.0000\n",
      "Reject H0\n",
      "\n",
      "\n",
      "NumWebVisitsMonth:\n",
      "Statistic: 62.6561\n",
      "pvalue: 0.0000\n",
      "Reject H0\n",
      "\n",
      "\n"
     ]
    }
   ],
   "source": [
    "list = ['NumWebPurchases', 'NumCatalogPurchases', 'NumStorePurchases', 'NumWebVisitsMonth']\n",
    "\n",
    "for i in list:\n",
    "    groups = [df[i][df['Generation'] == gen] for gen in df['Generation'].unique()]\n",
    "    stat, pvalue = kruskal(*groups)\n",
    "    print(f'{i}:')\n",
    "    print(f\"Statistic: {stat:.4f}\")\n",
    "    print(f\"pvalue: {pvalue:.4f}\")\n",
    "\n",
    "    alpha = 0.05\n",
    "    if pvalue < 0.05:\n",
    "        print('Reject H0')\n",
    "        print('\\n')\n",
    "    else:\n",
    "        print('Fail to reject H0')\n",
    "        print('\\n')"
   ]
  },
  {
   "cell_type": "markdown",
   "id": "5e403576",
   "metadata": {},
   "source": [
    "Supporting the previous analysis, silent generation has the highest transaction, followed by gen x. This shows that older generations have higher purchasing power.\n",
    "\n",
    "Surprisingly, silent generation has high number of web purchases, indicating an increase in adaptation and acceptance of online shopping while the other older generation still beginning to engage with online purchasing. \n",
    "\n",
    "Despite of the online-shopping era, physical-store experience is still valued accross generation. Exposure of technology which dominantly experienced by younger generations, does not guarantee preference in online shopping.\n",
    "\n",
    "This preferences can also be related with the products. For example, Boomers with quite high spending levels on products like wine and gold prefer to have in-store purchase as those products require more personal experience.\n",
    "\n",
    "Another common aggreement between generations is that catalog purchases has the lowest engagament. Even tough in-store purchase is still preffered, we cannot ignore that we are shifting from traditional marketing to digital channels. \n",
    "\n",
    "\n",
    "Recpmmendations:\n",
    "Stakeholders can now be more focused on putting a campaign in physical store and web. To engange gen x and millennialls, campaign such as discounts or limited-time offers could drive higher engagement. However, in this case, in-store promotions or loyalty programs can be more effective, comparing to web purchase which is considerably limited. Meanwhile, flexible campaigns across all channels for Silent generations, because they are more comofrtable using various puchasing channel and willing to buy from multiple place."
   ]
  },
  {
   "cell_type": "markdown",
   "id": "e3cd7346",
   "metadata": {},
   "source": [
    "### 3. Income Influence and Spending"
   ]
  },
  {
   "cell_type": "markdown",
   "id": "71a7ea29",
   "metadata": {},
   "source": [
    "As from the analysis above we have seen spending and place purchase between generation, we can now see the income to explore the relation between the products bought and the income. \n",
    "Investigate if higher-income customers spend more on luxury products like wine and gold. This insight can guide marketing strategies for different income segments."
   ]
  },
  {
   "cell_type": "code",
   "execution_count": 37,
   "id": "483a7031",
   "metadata": {},
   "outputs": [
    {
     "data": {
      "text/plain": [
       "Generation\n",
       "Silent         65174.0\n",
       "Boomers        57333.0\n",
       "Gen X          48178.0\n",
       "Millennials    39660.0\n",
       "Name: Income, dtype: float64"
      ]
     },
     "execution_count": 37,
     "metadata": {},
     "output_type": "execute_result"
    }
   ],
   "source": [
    "income_generation = df.groupby('Generation')['Income'].median()\n",
    "\n",
    "income_generation = income_generation.reindex(['Silent', 'Boomers', 'Gen X', 'Millennials'])\n",
    "\n",
    "income_generation"
   ]
  },
  {
   "cell_type": "code",
   "execution_count": 54,
   "id": "8ab7a0a4",
   "metadata": {},
   "outputs": [
    {
     "data": {
      "image/png": "[encoded data removed]",
      "text/plain": [
       "<Figure size 600x400 with 1 Axes>"
      ]
     },
     "metadata": {},
     "output_type": "display_data"
    }
   ],
   "source": [
    "income_generation.plot(kind='bar', figsize=(6, 4), colormap='viridis')\n",
    "plt.title('Customers Invome by Generation')\n",
    "plt.xlabel('Generation')\n",
    "plt.ylabel('Income median')\n",
    "plt.xticks(rotation=45)\n",
    "plt.legend(title='Product Category')\n",
    "plt.savefig('Income')"
   ]
  },
  {
   "cell_type": "markdown",
   "id": "993a8457",
   "metadata": {},
   "source": [
    "Spearman Test is going to be performed as the normality is not met with hypothesis as follows:\n",
    "\n",
    "- H0: there are no significant differences in each product spending among different income\n",
    "- H1: there are significant differences in each product spending among different income"
   ]
  },
  {
   "cell_type": "code",
   "execution_count": 39,
   "id": "f5418462",
   "metadata": {
    "scrolled": true
   },
   "outputs": [
    {
     "name": "stdout",
     "output_type": "stream",
     "text": [
      "                  correlation  p_value\n",
      "MntWines               0.8294      0.0\n",
      "MntFruits              0.5793      0.0\n",
      "MntMeatProducts        0.8147      0.0\n",
      "MntFishProducts        0.5747      0.0\n",
      "MntSweetProducts       0.5651      0.0\n",
      "MntGoldProds           0.5044      0.0\n"
     ]
    }
   ],
   "source": [
    "from scipy.stats import spearmanr\n",
    "\n",
    "spearman_results = {}\n",
    "list = ['MntWines', 'MntFruits', 'MntMeatProducts','MntFishProducts', 'MntSweetProducts', 'MntGoldProds']\n",
    "\n",
    "\n",
    "for product in list:\n",
    "    correlation, p_value = spearmanr(df['Income'], df[product])\n",
    "    spearman_results[product] = {'correlation': correlation, 'p_value': p_value}\n",
    "    \n",
    "results_df = pd.DataFrame(spearman_results).T\n",
    "print(results_df.round(4))"
   ]
  },
  {
   "cell_type": "markdown",
   "id": "09b43feb",
   "metadata": {},
   "source": [
    "Decline in trend from older to younger generation will reflect various factors such as economic conditions, career stages, lifestyle, purchasing power and products.\n",
    "\n",
    "There correlation indicates the strength and direction of the relationship between income and spending accross various categories. Silent generation has the highest median income at 65174, which may relevant to their higher spending in product categories especially in luxirious goods.\n",
    "\n",
    "Generations with lower income are implementing budget-conscious approach which prioritize essentials. \n",
    "\n",
    "Wine (0.82) and meat (0.81) products have the highest correlation among categories, implying higher spending in these two indicate higher income. \n",
    "\n",
    "Fruits (0.58) and fish (0.57) products show moderate correlation with income. They are puschased more widely across different income level but still trend higher with income increase. Other factors such as lifestyle choses (e.g., vegan), trend, health consciousness may also contribute in decision\n",
    "\n",
    "Sweets (0.56) and gold (0.50) products have the lowest correlation, not influenced by income. This might be caused by these are independent of income and appeal the same through all income cohort. \n",
    "\n",
    "\n",
    "Recommendation:\n",
    "1. Marketing strategies such as focusing on premium products for higher-income consumers while also offering value-oriented options for younger generations.\n",
    "\n",
    "2. Products independent from income may attract all groupus, suggesting more inclusive pricing and promotional approach"
   ]
  },
  {
   "cell_type": "markdown",
   "id": "0b85d603",
   "metadata": {},
   "source": [
    "### 4. Household Composition and Products"
   ]
  },
  {
   "cell_type": "code",
   "execution_count": 40,
   "id": "a38c1377",
   "metadata": {},
   "outputs": [
    {
     "name": "stdout",
     "output_type": "stream",
     "text": [
      "                          MntWines  MntFruits  MntMeatProducts  \\\n",
      "Household_Type                                                   \n",
      "Children and Teenagers        44.0        2.0             19.0   \n",
      "No Children or Teenagers     450.0       33.0            360.0   \n",
      "Only Children                 16.0        3.0             18.0   \n",
      "Only Teenagers               369.5       12.0             99.0   \n",
      "\n",
      "                          MntFishProducts  MntSweetProducts  MntGoldProds  \n",
      "Household_Type                                                             \n",
      "Children and Teenagers                3.0               2.0          11.0  \n",
      "No Children or Teenagers             59.0              35.0          42.0  \n",
      "Only Children                         6.0               4.0          12.0  \n",
      "Only Teenagers                       15.0              11.5          35.0  \n"
     ]
    }
   ],
   "source": [
    "def household_type(row):\n",
    "    if row['Kidhome'] > 0 and row['Teenhome'] > 0:\n",
    "        return 'Children and Teenagers'\n",
    "    elif row['Kidhome'] > 0:\n",
    "        return 'Only Children'\n",
    "    elif row['Teenhome'] > 0:\n",
    "        return 'Only Teenagers'\n",
    "    else:\n",
    "        return 'No Children or Teenagers'\n",
    "\n",
    "df['Household_Type'] = df.apply(household_type, axis=1)\n",
    "\n",
    "household_spending = df.groupby('Household_Type')[['MntWines', 'MntFruits', 'MntMeatProducts', \n",
    "                                                   'MntFishProducts', 'MntSweetProducts', \n",
    "                                                   'MntGoldProds']].median()\n",
    "print(household_spending)"
   ]
  },
  {
   "cell_type": "code",
   "execution_count": 60,
   "id": "11f9c45e",
   "metadata": {},
   "outputs": [
    {
     "data": {
      "image/png": "[encoded data removed]",
      "text/plain": [
       "<Figure size 1000x500 with 1 Axes>"
      ]
     },
     "metadata": {},
     "output_type": "display_data"
    },
    {
     "data": {
      "text/plain": [
       "<Figure size 640x480 with 0 Axes>"
      ]
     },
     "metadata": {},
     "output_type": "display_data"
    }
   ],
   "source": [
    "household_spending.plot(kind='bar', figsize=(10, 5), colormap='viridis')\n",
    "plt.title('Average Spending by Household Type')\n",
    "plt.xlabel('Household Composition')\n",
    "plt.ylabel('Average Amount Spent')\n",
    "plt.xticks(rotation=45)\n",
    "plt.legend(title='Product Category')\n",
    "plt.show()\n",
    "plt.savefig('Household Type')"
   ]
  },
  {
   "cell_type": "markdown",
   "id": "1cd986b5",
   "metadata": {},
   "source": [
    "- H0: there are no significant differences in each product spending among different household type\n",
    "- H1: there are significant differences in each product spending among different household type"
   ]
  },
  {
   "cell_type": "code",
   "execution_count": 42,
   "id": "df11ade7",
   "metadata": {
    "scrolled": true
   },
   "outputs": [
    {
     "name": "stdout",
     "output_type": "stream",
     "text": [
      "MntWines:\n",
      "Statistic: 800.4132\n",
      "pvalue: 0.0000\n",
      "Reject H0\n",
      "\n",
      "\n",
      "MntFruits:\n",
      "Statistic: 585.5134\n",
      "pvalue: 0.0000\n",
      "Reject H0\n",
      "\n",
      "\n",
      "MntMeatProducts:\n",
      "Statistic: 792.6424\n",
      "pvalue: 0.0000\n",
      "Reject H0\n",
      "\n",
      "\n",
      "MntFishProducts:\n",
      "Statistic: 631.2823\n",
      "pvalue: 0.0000\n",
      "Reject H0\n",
      "\n",
      "\n",
      "MntSweetProducts:\n",
      "Statistic: 554.1923\n",
      "pvalue: 0.0000\n",
      "Reject H0\n",
      "\n",
      "\n",
      "MntGoldProds:\n",
      "Statistic: 414.5242\n",
      "pvalue: 0.0000\n",
      "Reject H0\n",
      "\n",
      "\n"
     ]
    }
   ],
   "source": [
    "list = ['MntWines', 'MntFruits', 'MntMeatProducts', 'MntFishProducts', 'MntSweetProducts','MntGoldProds']\n",
    "\n",
    "for i in list:\n",
    "    groups = [df[i][df['Household_Type'] == gen] for gen in df['Household_Type'].unique()]\n",
    "    stat, pvalue = kruskal(*groups)\n",
    "    print(f'{i}:')\n",
    "    print(f\"Statistic: {stat:.4f}\")\n",
    "    print(f\"pvalue: {pvalue:.4f}\")\n",
    "\n",
    "    alpha = 0.05\n",
    "    if pvalue < 0.05:\n",
    "        print('Reject H0')\n",
    "        print('\\n')\n",
    "    else:\n",
    "        print('Fail to reject H0')\n",
    "        print('\\n')"
   ]
  },
  {
   "cell_type": "code",
   "execution_count": 43,
   "id": "27e1a777",
   "metadata": {},
   "outputs": [
    {
     "name": "stdout",
     "output_type": "stream",
     "text": [
      "Kruskal-Wallis test statistic: 806.8308\n",
      "p-value: 0.0000\n",
      "Significant differences exist between household types regarding income.\n"
     ]
    }
   ],
   "source": [
    "from scipy.stats import kruskal\n",
    "\n",
    "# Extract income data based on household types\n",
    "household_groups = [group['Income'].values for name, group in df.groupby('Household_Type')]\n",
    "\n",
    "# Perform Kruskal-Wallis test\n",
    "stat, p_value = kruskal(*household_groups)\n",
    "\n",
    "# Display the result\n",
    "print(f'Kruskal-Wallis test statistic: {stat:.4f}')\n",
    "print(f'p-value: {p_value:.4f}')\n",
    "\n",
    "if p_value <= 0.05:\n",
    "    print(\"Significant differences exist between household types regarding income.\")\n",
    "else:\n",
    "    print(\"No significant differences between household types regarding income.\")"
   ]
  },
  {
   "cell_type": "markdown",
   "id": "a787db7e",
   "metadata": {},
   "source": [
    "The result is reject H0 for all. This indicates there is statistically significant relationship between the products and the household type as well as between household type and income. \n",
    "\n",
    "There is a high statistic value across categories, with the strongest correlations are shown for wine (800.41) and meat products (792.64). These products are expensive, thus households without children or teenagers have higher bugdet on luxury items.\n",
    "\n",
    "For another products such as fruits, fish, sweets, and gold, there is correlation wih household type but less influenced by the presence of children or teens.\n",
    "\n",
    "Households with teenagers or children have more needs and essentials, thus they only prioritize valuable items. However, it is quite interesting they have low spending on fruits considering that it is important for their growth and health.\n",
    "\n",
    "Recommendations:\n",
    "1. Premium products promotion to households without children or teenagers\n",
    "These households are more receptive to premium product promotions. Strategy such as loyalty program where a reward is given once certain spending patterns are detected. The reward can be in many forms such as discount and freebies\n",
    "2. Bundle essentials for household with children \n",
    "Offering budget friendly bundles that group essential items. \n",
    "3. Seasonal and Occasional Based Discount\n",
    "Promote products on holidays or special occasions such as back-to-school, holidays, and movie release.\n"
   ]
  },
  {
   "cell_type": "markdown",
   "id": "81c3647a",
   "metadata": {},
   "source": [
    "### 5. Marital Status and Products"
   ]
  },
  {
   "cell_type": "code",
   "execution_count": 44,
   "id": "d99313dc",
   "metadata": {},
   "outputs": [
    {
     "name": "stdout",
     "output_type": "stream",
     "text": [
      "                MntWines  MntFruits  MntMeatProducts  MntFishProducts  \\\n",
      "Marital_Status                                                          \n",
      "Divorced           183.0        8.0             72.0             10.0   \n",
      "Married            173.0        7.0             64.0             12.0   \n",
      "Single             155.0        8.5             64.0             12.0   \n",
      "Together           181.0        8.0             68.0             12.0   \n",
      "Widow              332.0       12.0             83.0             23.0   \n",
      "\n",
      "                MntSweetProducts  MntGoldProds  \n",
      "Marital_Status                                  \n",
      "Divorced                     7.0          25.0  \n",
      "Married                      8.0          22.0  \n",
      "Single                       9.0          26.0  \n",
      "Together                     9.0          24.0  \n",
      "Widow                       11.0          38.0  \n"
     ]
    }
   ],
   "source": [
    "status_spending = df.groupby('Marital_Status')[['MntWines', 'MntFruits', 'MntMeatProducts', \n",
    "                                                   'MntFishProducts', 'MntSweetProducts', \n",
    "                                                   'MntGoldProds']].median()\n",
    "print(status_spending)"
   ]
  },
  {
   "cell_type": "code",
   "execution_count": 57,
   "id": "8ad35441",
   "metadata": {},
   "outputs": [
    {
     "data": {
      "image/png": "[encoded data removed]",
      "text/plain": [
       "<Figure size 1000x600 with 1 Axes>"
      ]
     },
     "metadata": {},
     "output_type": "display_data"
    },
    {
     "data": {
      "text/plain": [
       "<Figure size 640x480 with 0 Axes>"
      ]
     },
     "metadata": {},
     "output_type": "display_data"
    }
   ],
   "source": [
    "status_spending.plot(kind='bar', figsize=(10, 6), colormap='viridis')\n",
    "plt.title('Product Spending by Marital Status')\n",
    "plt.xlabel('Household Composition')\n",
    "plt.ylabel('Median Amount Spent')\n",
    "plt.xticks(rotation=45)\n",
    "plt.legend(title='Product Category')\n",
    "plt.show()\n",
    "plt.savefig('Marital status')"
   ]
  },
  {
   "cell_type": "markdown",
   "id": "19b22b9b",
   "metadata": {},
   "source": [
    "- H0: there are no significant differences in each product spending among different marital status\n",
    "- H1: there are significant differences in each product spending among different marital status\n",
    "\n",
    "Kurskal-Wallis test is used to check wether spending is influenced by marital status"
   ]
  },
  {
   "cell_type": "code",
   "execution_count": 46,
   "id": "81ff666e",
   "metadata": {},
   "outputs": [
    {
     "name": "stdout",
     "output_type": "stream",
     "text": [
      "MntWines:\n",
      "Statistic: 7.9443\n",
      "pvalue: 0.0936\n",
      "Fail to reject H0\n",
      "\n",
      "\n",
      "MntFruits:\n",
      "Statistic: 2.9277\n",
      "pvalue: 0.5700\n",
      "Fail to reject H0\n",
      "\n",
      "\n",
      "MntMeatProducts:\n",
      "Statistic: 3.3416\n",
      "pvalue: 0.5024\n",
      "Fail to reject H0\n",
      "\n",
      "\n",
      "MntFishProducts:\n",
      "Statistic: 4.6848\n",
      "pvalue: 0.3212\n",
      "Fail to reject H0\n",
      "\n",
      "\n",
      "MntSweetProducts:\n",
      "Statistic: 0.9682\n",
      "pvalue: 0.9146\n",
      "Fail to reject H0\n",
      "\n",
      "\n",
      "MntGoldProds:\n",
      "Statistic: 10.2259\n",
      "pvalue: 0.0368\n",
      "Reject H0\n",
      "\n",
      "\n"
     ]
    }
   ],
   "source": [
    "list = ['MntWines', 'MntFruits', 'MntMeatProducts', 'MntFishProducts', 'MntSweetProducts','MntGoldProds']\n",
    "\n",
    "for i in list:\n",
    "    groups = [df[i][df['Marital_Status'] == gen] for gen in df['Marital_Status'].unique()]\n",
    "    stat, pvalue = kruskal(*groups)\n",
    "    print(f'{i}:')\n",
    "    print(f\"Statistic: {stat:.4f}\")\n",
    "    print(f\"pvalue: {pvalue:.4f}\")\n",
    "\n",
    "    alpha = 0.05\n",
    "    if pvalue < 0.05:\n",
    "        print('Reject H0')\n",
    "        print('\\n')\n",
    "    else:\n",
    "        print('Fail to reject H0')\n",
    "        print('\\n')"
   ]
  },
  {
   "cell_type": "markdown",
   "id": "4a12e499",
   "metadata": {},
   "source": [
    "Based on the test result, most of them is Fail to reject H0, meaning there is no enough evident to conclude there is a signigicant differences accross marital status and products, except for gold products. \n",
    "\n",
    "For gold, widows spending the most, likely due to either lifestyle or gift. And thus can be used as a way to do business strategy\n",
    "\n",
    "Thus, campaigned segmented based on marital status will not be impactful."
   ]
  },
  {
   "cell_type": "markdown",
   "id": "d254d119",
   "metadata": {},
   "source": [
    "### 6. Campaign Effectiveness by Customer Segment"
   ]
  },
  {
   "cell_type": "code",
   "execution_count": 64,
   "id": "89151628",
   "metadata": {},
   "outputs": [
    {
     "name": "stdout",
     "output_type": "stream",
     "text": [
      "\n",
      "\n",
      "Campaign Effectiveness by Generation:\n",
      "              AcceptedCmp1  AcceptedCmp2  AcceptedCmp3  AcceptedCmp4  \\\n",
      "Generation                                                            \n",
      "Boomers          7.905138      1.712780      5.401845      9.354414   \n",
      "Gen X            4.583723      1.122544      7.109448      6.641721   \n",
      "Millennials      8.571429      1.298701     11.168831      5.974026   \n",
      "Silent           8.333333      0.000000     12.500000      8.333333   \n",
      "\n",
      "             AcceptedCmp5  \n",
      "Generation                 \n",
      "Boomers          6.982872  \n",
      "Gen X            5.519177  \n",
      "Millennials     11.948052  \n",
      "Silent          16.666667  \n"
     ]
    },
    {
     "data": {
      "image/png": "[encoded data removed]",
      "text/plain": [
       "<Figure size 1000x600 with 1 Axes>"
      ]
     },
     "metadata": {},
     "output_type": "display_data"
    },
    {
     "name": "stdout",
     "output_type": "stream",
     "text": [
      "Chi-square Test for Generation:\n",
      "AcceptedCmp1: Chi2 = 11.8680, p-value = 0.0078\n",
      "AcceptedCmp2: Chi2 = 1.5099, p-value = 0.6800\n",
      "AcceptedCmp3: Chi2 = 13.5956, p-value = 0.0035\n",
      "AcceptedCmp4: Chi2 = 6.2363, p-value = 0.1007\n",
      "AcceptedCmp5: Chi2 = 20.6661, p-value = 0.0001\n",
      "\n",
      "\n",
      "Campaign Effectiveness by Household_type:\n",
      "                           AcceptedCmp1  AcceptedCmp2  AcceptedCmp3  \\\n",
      "Household_Type                                                       \n",
      "Children and Teenagers        1.405152      0.468384      6.088993   \n",
      "No Children or Teenagers     17.268446      2.825746      7.535322   \n",
      "Only Children                 0.963391      0.000000      9.633911   \n",
      "Only Teenagers                3.516820      1.529052      5.963303   \n",
      "\n",
      "                          AcceptedCmp4  AcceptedCmp5  \n",
      "Household_Type                                        \n",
      "Children and Teenagers        3.747073      0.468384  \n",
      "No Children or Teenagers     10.832025     21.507064  \n",
      "Only Children                 1.348748      1.156069  \n",
      "Only Teenagers               11.467890      2.599388  \n"
     ]
    },
    {
     "data": {
      "text/plain": [
       "<Figure size 640x480 with 0 Axes>"
      ]
     },
     "metadata": {},
     "output_type": "display_data"
    },
    {
     "data": {
      "image/png": "[encoded data removed]",
      "text/plain": [
       "<Figure size 1000x600 with 1 Axes>"
      ]
     },
     "metadata": {},
     "output_type": "display_data"
    },
    {
     "name": "stdout",
     "output_type": "stream",
     "text": [
      "Chi-square Test for Household_type:\n",
      "AcceptedCmp1: Chi2 = 177.1111, p-value = 0.0000\n",
      "AcceptedCmp2: Chi2 = 20.2995, p-value = 0.0001\n",
      "AcceptedCmp3: Chi2 = 6.8931, p-value = 0.0754\n",
      "AcceptedCmp4: Chi2 = 62.2726, p-value = 0.0000\n",
      "AcceptedCmp5: Chi2 = 271.7350, p-value = 0.0000\n",
      "\n",
      "\n",
      "Campaign Effectiveness by Income_category:\n",
      "                  AcceptedCmp1  AcceptedCmp2  AcceptedCmp3  AcceptedCmp4  \\\n",
      "Income_Category                                                           \n",
      "Low                  0.000000      0.000000      7.678571      0.178571   \n",
      "Mid-Low              1.048951      0.699301      8.566434      4.370629   \n",
      "Mid-High             3.113553      1.831502      5.128205     11.721612   \n",
      "High                21.645796      2.862254      7.692308     13.774597   \n",
      "\n",
      "                 AcceptedCmp5  \n",
      "Income_Category                \n",
      "Low                  0.000000  \n",
      "Mid-Low              0.174825  \n",
      "Mid-High             1.648352  \n",
      "High                27.191413  \n"
     ]
    },
    {
     "data": {
      "text/plain": [
       "<Figure size 640x480 with 0 Axes>"
      ]
     },
     "metadata": {},
     "output_type": "display_data"
    },
    {
     "data": {
      "image/png": "[encoded data removed]",
      "text/plain": [
       "<Figure size 1000x600 with 1 Axes>"
      ]
     },
     "metadata": {},
     "output_type": "display_data"
    },
    {
     "name": "stdout",
     "output_type": "stream",
     "text": [
      "Chi-square Test for Income_category:\n",
      "AcceptedCmp1: Chi2 = 290.7957, p-value = 0.0000\n",
      "AcceptedCmp2: Chi2 = 20.1617, p-value = 0.0002\n",
      "AcceptedCmp3: Chi2 = 5.4157, p-value = 0.1438\n",
      "AcceptedCmp4: Chi2 = 97.5034, p-value = 0.0000\n",
      "AcceptedCmp5: Chi2 = 442.8688, p-value = 0.0000\n"
     ]
    },
    {
     "data": {
      "text/plain": [
       "<Figure size 640x480 with 0 Axes>"
      ]
     },
     "metadata": {},
     "output_type": "display_data"
    }
   ],
   "source": [
    "import matplotlib.pyplot as plt\n",
    "import pandas as pd\n",
    "import seaborn as sns\n",
    "from scipy.stats import chi2_contingency\n",
    "\n",
    "# List of campaigns\n",
    "campaigns = ['AcceptedCmp1', 'AcceptedCmp2', 'AcceptedCmp3', 'AcceptedCmp4', 'AcceptedCmp5']\n",
    "\n",
    "# Function to calculate acceptance rates and plot for a given variable\n",
    "def analyze_campaign_effectiveness(df, variable):\n",
    "    # Calculate acceptance rate by demographic variable\n",
    "    campaign_effectiveness = df.groupby(variable)[campaigns].mean() * 100  # Convert to percentages\n",
    "    print(\"\\n\")\n",
    "    print(f\"Campaign Effectiveness by {variable.capitalize()}:\\n\", campaign_effectiveness)\n",
    "\n",
    "    # Plot\n",
    "    campaign_effectiveness.T.plot(kind='bar', figsize=(10, 6), colormap='viridis')\n",
    "    plt.title(f'Campaign Effectiveness by {variable.capitalize()}')\n",
    "    plt.xlabel('Campaign')\n",
    "    plt.ylabel('Acceptance Rate (%)')\n",
    "    plt.xticks(rotation=0)\n",
    "    plt.legend(title=variable.capitalize(), bbox_to_anchor=(1.05, 1), loc='upper left')\n",
    "    plt.show()\n",
    "    plt.savefig(f\"{variable}\")\n",
    "    \n",
    "    # Chi-square test for statistical significance\n",
    "    print(f\"Chi-square Test for {variable.capitalize()}:\")\n",
    "    chi2_results = {}\n",
    "    for campaign in campaigns:\n",
    "        contingency_table = pd.crosstab(df[variable], df[campaign])\n",
    "        chi2, p, _, _ = chi2_contingency(contingency_table)\n",
    "        chi2_results[campaign] = (chi2, p)\n",
    "        print(f\"{campaign}: Chi2 = {chi2:.4f}, p-value = {p:.4f}\")\n",
    "        \n",
    "    return chi2_results\n",
    "\n",
    "# Analyze for each demographic variable\n",
    "variables = ['Generation', 'Household_Type']\n",
    "chi2_summary = {}\n",
    "\n",
    "for var in variables:\n",
    "    chi2_summary[var] = analyze_campaign_effectiveness(df, var)\n",
    "\n",
    "# Income Analysis (as a continuous variable, it needs to be binned)\n",
    "income_bins = pd.qcut(df['Income'], q=4, labels=['Low', 'Mid-Low', 'Mid-High', 'High'])\n",
    "df['Income_Category'] = income_bins\n",
    "\n",
    "chi2_summary['Income_Category'] = analyze_campaign_effectiveness(df, 'Income_Category')\n"
   ]
  },
  {
   "cell_type": "markdown",
   "id": "3c8f67cc",
   "metadata": {},
   "source": [
    "### Campaign Effectiveness for Generations\n",
    "\n",
    "Silent generation has the highest acceptance rate, particularly in Cmp5 (16.67%) and Cmp3 (12.50%). The lowest acceptance rates across campaign is Gen X with the highest is Cmp3 (7.11%).\n",
    "\n",
    "Cmp1, Cmp3, and Cmp5 show that they are statistically significant across generational cohort. Meanwhile for the rest (Cmp2 and Cmp4), it does not show difference across generation.\n",
    "\n",
    "\n",
    "Recommendations:\n",
    "1. To keep the engagement with silent generation and millenials, as they both the highest, strategy in Cmp3 and Cmp5 can be implemented. And for Gen X, as the lowest overall rate, it can be explored to improve effectiveness.\n",
    "\n",
    "2. Overall, Cmp5 has the highest variation in acceptance, it is valuable to further analyze what aspects of this campaign appeal to certain generation and thus leveraging these characteristics in future campaign\n"
   ]
  },
  {
   "cell_type": "markdown",
   "id": "94d4a1b8",
   "metadata": {},
   "source": [
    "### Campaign Effectiveness for Household Type\n",
    "\n",
    "Beside generation, it is also interesting to see the campaign in another point of view.\n",
    "\n",
    "Houshold Type without chilern and teengaers shows the highest acceptance rate in most cases, especially in Cmp1 (17.27%), Cmp4 (10.83%), and Cmp5 (21.51%). This might be caused by higher purchasing power and no respobsibilities in fulfilling others' needs. \n",
    "Campaign for households with childern and teenagers shows a low effectiveness with Cmp3 is 6.09% and Cmp4 375%. It is indicating potential misalignment with their needs or priorities. \n",
    "\n",
    "Recommendation:\n",
    "1. Cmp1, Cmp4, and Cmp5 could be optimized further for households with no childern or teenagers. The messages could emphasize products or services tailored to adults\n",
    "\n",
    "2. Creating a campaign with family-friendly benefit, emphasizing values and so on can be a strategy. This is meant to create more inclusive campaign which covers all customers' segment.\n",
    "\n",
    "3. Cmp3 can be used as a benchmark of versatile campaign given it has considerably acceptance rate and less significant to any household type\n"
   ]
  },
  {
   "cell_type": "markdown",
   "id": "4561fb1f",
   "metadata": {},
   "source": [
    "### Campaign Effectiveness by Income Category\n",
    "\n",
    "High income category shows high acceptance rate across different campaign especialy in Cmp1 (21.65%), Cmp4 (27.19%), and Cmp5 (27.19%). This indicates that this higher income could yield greater engagement due to higher purchasing power and non-restricted budget.\n",
    "\n",
    "Low income and mid-low income show low engagement accross campaign. Indicate they are more selective as well as the campaigns are not aligned with their priority needs.\n",
    "\n",
    "Except for Cmp3, all campaign is statistically significant with income, meaning acceptance campaign rate varies between on income level (p<0.05). Since Cmp3 does not seem to be influenced by this, the strategy made in Cmp3 can be implement in the future campaign to reach more customers\n",
    "\n",
    "Recommendations:\n",
    "\n",
    "1. In creating more campaigns in the future, approach in Cmp1, Cmp4, and Cmp5 should be further studied and developoed to reach high-income customers. Moreover, it should highlight premium or exclusive products or offer tailored to their needs. \n",
    "\n",
    "3. Cmp3 and Cmp4 are middle-income friendly. Campaigns targeting these cusromers should emphasize value, benefit, and quality/\n",
    "\n",
    "2. There needs to be evaluation for low and mid low customer to better align with their needs and priority.\n"
   ]
  },
  {
   "cell_type": "markdown",
   "id": "9e7a2884",
   "metadata": {},
   "source": [
    "### 7. Calculate discount sensitive customer"
   ]
  },
  {
   "cell_type": "code",
   "execution_count": 58,
   "id": "eec3ec7b",
   "metadata": {},
   "outputs": [
    {
     "data": {
      "image/png": "[encoded data removed]",
      "text/plain": [
       "<Figure size 800x600 with 1 Axes>"
      ]
     },
     "metadata": {},
     "output_type": "display_data"
    },
    {
     "name": "stdout",
     "output_type": "stream",
     "text": [
      "Total Customers: 2237\n",
      "Discount-Sensitive Customers: 2191\n",
      "Proportion of Discount-Sensitive Customers: 97.94%\n"
     ]
    },
    {
     "data": {
      "text/plain": [
       "<Figure size 640x480 with 0 Axes>"
      ]
     },
     "metadata": {},
     "output_type": "display_data"
    }
   ],
   "source": [
    "total_customers = df['ID'].nunique() \n",
    "\n",
    "discount_customers = df[df['NumDealsPurchases'] > 0]['ID'].nunique()\n",
    "\n",
    "proportion_discount_sensitive = discount_customers / total_customers\n",
    "\n",
    "labels = ['Discount-Sensitive', 'Not Discount-Sensitive']\n",
    "sizes = [discount_customers, total_customers - discount_customers]\n",
    "colors = ['#ff9999','#66b3ff']\n",
    "\n",
    "plt.figure(figsize=(8, 6))\n",
    "plt.pie(sizes, labels=labels, colors=colors, autopct='%1.1f%%', startangle=90)\n",
    "plt.axis('equal')  # Equal aspect ratio ensures that pie is drawn as a circle.\n",
    "plt.title('Proportion of Discount-Sensitive Customers')\n",
    "plt.show()\n",
    "plt.savefig('Discount')\n",
    "\n",
    "print(f'Total Customers: {total_customers}')\n",
    "print(f'Discount-Sensitive Customers: {discount_customers}')\n",
    "print(f'Proportion of Discount-Sensitive Customers: {proportion_discount_sensitive:.2%}')\n"
   ]
  },
  {
   "cell_type": "markdown",
   "id": "ace515ae",
   "metadata": {},
   "source": [
    "97.94% customers classified as discount-sensitive. Discounts are significantly influencing purchasng decisions across customer base.\n",
    "\n",
    "Reliance on discounts may erode profit margin, as customers tend to hold off unti discounts are offered, caused reduction in the effectiveness of non-discount pricing. This can also mean lack of brand loyalty, with customers probably switching brands or hold off until unless discount is offered.\n",
    "\n",
    "\n",
    "Recommendations:\n",
    "1. Varying promo\n",
    "Loyalty points, exclusive or seasonal offers and bundled deals can be an option to slowly shift this behaviour while also maintaining customers' engagement. \n",
    "The points can further be redeemed for rewards such as free products, merchandise, and free shipping\n",
    "\n",
    "2. Gradual reduction in discount frequency\n",
    "To make the point 1 above working, there should be a gradual shift while also maintaining customers' behaviour.\n",
    "\n",
    "3. Personalized offer based on history\n",
    "High-value or loyal customer can be offered with personalized discount.\n",
    "\n",
    "4. Incentivize Discount-Sensitive Purchases\n",
    "Offer discount on frequently purchased items which can result in greater engagement with discount-senstivie customers. Might be through flash sale."
   ]
  },
  {
   "cell_type": "markdown",
   "id": "b906eef3",
   "metadata": {},
   "source": [
    "### 8. Customer Complain Analysis"
   ]
  },
  {
   "cell_type": "code",
   "execution_count": 63,
   "id": "ac9b0765",
   "metadata": {},
   "outputs": [
    {
     "data": {
      "image/png": "[encoded data removed]",
      "text/plain": [
       "<Figure size 800x600 with 1 Axes>"
      ]
     },
     "metadata": {},
     "output_type": "display_data"
    },
    {
     "name": "stdout",
     "output_type": "stream",
     "text": [
      "Total Customers: 2237\n",
      "Complaining Customers: 20\n",
      "Complaint Rate: 0.89%\n",
      "Average Complaint Rate by Generation:\n",
      " Generation\n",
      "Boomers        1.185771\n",
      "Gen X          0.467727\n",
      "Millennials    1.298701\n",
      "Silent         4.166667\n",
      "Name: Complain, dtype: float64\n"
     ]
    },
    {
     "data": {
      "text/plain": [
       "<Figure size 640x480 with 0 Axes>"
      ]
     },
     "metadata": {},
     "output_type": "display_data"
    }
   ],
   "source": [
    "total_customers = df['ID'].nunique()  \n",
    "complaining_customers = df[df['Complain'] == 1]['ID'].nunique()\n",
    "\n",
    "complaint_rate = complaining_customers / total_customers\n",
    "\n",
    "labels = ['Complaining Customers', 'Non-Complaining Customers']\n",
    "sizes = [complaining_customers, total_customers - complaining_customers]\n",
    "colors = ['#ff9999', '#66b3ff']\n",
    "\n",
    "plt.figure(figsize=(8, 6))\n",
    "plt.pie(sizes, labels=labels, colors=colors, autopct='%1.1f%%', startangle=90)\n",
    "plt.axis('equal')  # Equal aspect ratio ensures that pie is drawn as a circle.\n",
    "plt.title('Customer Complaints Analysis')\n",
    "plt.show()\n",
    "plt.savefig('Complaint')\n",
    "\n",
    "print(f'Total Customers: {total_customers}')\n",
    "print(f'Complaining Customers: {complaining_customers}')\n",
    "print(f'Complaint Rate: {complaint_rate:.2%}')\n",
    "\n",
    "complaints_by_generation = df.groupby('Generation')['Complain'].mean() * 100\n",
    "print(\"Average Complaint Rate by Generation:\\n\", complaints_by_generation)\n"
   ]
  },
  {
   "cell_type": "markdown",
   "id": "e45e3b6c",
   "metadata": {},
   "source": [
    "Overall there is a very low complaint rate, only 20 out of 2237 customers, indicates high customer satisfaction.\n",
    "\n",
    "Between generation, silent generation appear most likely to complaints. It may be caused by concerns or expectations regarding products or services. It is good to tailor customer service or support option for this generation.\n",
    "\n",
    "Recommendations:\n",
    "1. Feedback\n",
    "Providing follow-up or open feedback after transaction to ensure any issues are promptly resolved might be a way to tackle this. This can be done especially for silent generation with relatively highest complains. This way will also increase customers' engagement.\n",
    "\n",
    "2. Preventative measure\n",
    "Periodic engagement with all customers' segment will help retaining customers' satisfaction and retaining supermarkets' well-known image of good service. This is also important to unveil issues that may not be reported.\n",
    "\n",
    "3. Use this as a campaign\n",
    "It is quite an achievement to have such a low complain rate, thus this can be publicly announced to reinforced positive perceptions and reduce complaints across generations."
   ]
  },
  {
   "cell_type": "code",
   "execution_count": 50,
   "id": "3840e275",
   "metadata": {},
   "outputs": [],
   "source": [
    "df.to_csv('filename.csv', index=False)"
   ]
  },
  {
   "cell_type": "markdown",
   "id": "ad25fd09-479e-4345-b57b-ea86cc9a8896",
   "metadata": {},
   "source": [
    "## Conclusions"
   ]
  },
  {
   "attachments": {},
   "cell_type": "markdown",
   "id": "f737e685-4ab0-426f-b9e3-969d3df7b992",
   "metadata": {},
   "source": [
    "Data analysis and visualization manage to produce meaningful insights about customers' behaviour and prefecences. This enables business to have data-driven decisions. By analyzing purchasing patterns across various customers' segment, several insights obtained, such as:\n",
    "\n",
    "- Trend identification: distinguish significant patterns in spending, channel preferences, and products\n",
    "\n",
    "- Customer behavior understanding: understanding influental factors such as purchasing power, technology adaptation, household types, and channel preferences\n",
    "\n",
    "- Marketing strategies personalization: tailoring needs to specific cohort\n",
    "\n",
    "- Resources allocation optimization:Focus on strategies that maximze engagement\n",
    "\n",
    "From those insights, recommendations can be made to tackle the problems and to further increasing supermarket’s profit, engaging more customer, and handling complaints.\n",
    "\n"
   ]
  },
  {
   "cell_type": "code",
   "execution_count": null,
   "id": "515112fd",
   "metadata": {},
   "outputs": [],
   "source": []
  },
  {
   "cell_type": "code",
   "execution_count": null,
   "id": "3e61c47c",
   "metadata": {},
   "outputs": [],
   "source": []
  },
  {
   "cell_type": "code",
   "execution_count": null,
   "id": "512f7024",
   "metadata": {},
   "outputs": [],
   "source": []
  },
  {
   "cell_type": "code",
   "execution_count": null,
   "id": "0ad428be",
   "metadata": {},
   "outputs": [],
   "source": []
  }
 ],
 "metadata": {
  "kernelspec": {
   "display_name": "Python 3 (ipykernel)",
   "language": "python",
   "name": "python3"
  },
  "language_info": {
   "codemirror_mode": {
    "name": "ipython",
    "version": 3
   },
   "file_extension": ".py",
   "mimetype": "text/x-python",
   "name": "python",
   "nbconvert_exporter": "python",
   "pygments_lexer": "ipython3",
   "version": "3.12.7"
  }
 },
 "nbformat": 4,
 "nbformat_minor": 5
}
